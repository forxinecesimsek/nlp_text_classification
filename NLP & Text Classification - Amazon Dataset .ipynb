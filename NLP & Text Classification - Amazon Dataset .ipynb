{
 "cells": [
  {
   "cell_type": "markdown",
   "id": "delayed-transformation",
   "metadata": {},
   "source": [
    "Ece Şimşek <br>\n",
    "Msc. Big Data and Business Analysis, Istanbul Technical University"
   ]
  },
  {
   "cell_type": "markdown",
   "id": "disturbed-mills",
   "metadata": {},
   "source": [
    "<h1 align=\"center\">Text Mining Project</h1>"
   ]
  },
  {
   "cell_type": "markdown",
   "id": "plastic-rainbow",
   "metadata": {},
   "source": [
    "**Aim To:** Establish a rate prediction model based on customer reviews using NLP techniques in order to show more consistent and helpful comments to customers in most appropriate order."
   ]
  },
  {
   "cell_type": "markdown",
   "id": "transsexual-crime",
   "metadata": {},
   "source": [
    "**Motivation:** <br><br>\n",
    "Nowadays, the spread of e-commerce and the increase in product diversity have created a need for customers to choose the right and most suitable product. Therefore, when customers want to choose the most suitable product for themselves and their budget, the reviews of other customers about their experiences with that product have become more valuable. For this reason, it is possible to say that customer reviews provide an objective feedback to the customer who will buy the product in his purchasing process. <br>\n",
    "\n",
    "While customers make comments about the product, they also make different types of ratings to summarize their reviews about the product. These ratings can be identified by the number of stars or a different numerical rating types. These summary ratings may vary depending on the customer's character, mood or personal differences of opinion and sometimes do not fully reflect the experience of the product. At this point, the main thing that reflects the relevant feedback is actually the customer review text itself. In this context, the main purpose of this project is to analyze the reviews made by customers using NLP techniques and try to predict the most accurate rating based on the meaning of the text.\n"
   ]
  },
  {
   "cell_type": "markdown",
   "id": "loved-amsterdam",
   "metadata": {},
   "source": [
    "**Dataset:** <br> <br>\n",
    "\n",
    "Customer reviews collected from the Amazon e-commerce website are aggregated from all reviews by each customer, with each customer review representing an integer ranging from one star to five stars. Customer reviews collected from the Amazon e-commerce website are aggregated from all reviews by each customer, with each customer review representing an integer ranging from one star to five stars. Therefore, we will need a supervised and multiclass classifier in this study. Besides, we will try to perform feature extraction to apply the best machine learning algorithm to solve our classification problem using Natural Language Processing (NLP) techniques like word embedding, topic modeling, and dimension reduction etc. <br>\n",
    "\n",
    "The entire dataset collected from Amazon contains product reviews and metadata, including 233.1 million reviews spanning May 1996 - Oct 2018. There are 29 categories in total, but the category \"All beauty\" was chosen within the scope of this study. It contains a total of 371,345 customer reviews and has 12 features. These fetaures and their explanations are briefly as follows: \n",
    "\n",
    "[Click to See Entire Dataset](http://deepyeti.ucsd.edu/jianmo/amazon/)\n",
    "\n",
    "* **reviewerID** - ID of the reviewer\n",
    "* **asin** - ID of the product\n",
    "* **reviewerName** - name of the reviewer\n",
    "* **vote** - helpful votes of the review\n",
    "* **style** - a disctionary of the product metadata\n",
    "* **reviewText** - text of the review\n",
    "* **overall** - rating of the product\n",
    "* **summary** - summary of the review\n",
    "* **unixReviewTime** - time of the review (unix time)\n",
    "* **reviewTime** - time of the review (raw)\n",
    "* **image** - images that users post after they have received the product\n",
    "* **verified** - information whether the customer who made the review purchased the product or not"
   ]
  },
  {
   "cell_type": "markdown",
   "id": "intelligent-subscriber",
   "metadata": {},
   "source": [
    "### Import Necessary Libraries "
   ]
  },
  {
   "cell_type": "code",
   "execution_count": 1,
   "id": "occasional-implementation",
   "metadata": {},
   "outputs": [
    {
     "name": "stdout",
     "output_type": "stream",
     "text": [
      "INFO:tensorflow:Enabling eager execution\n",
      "INFO:tensorflow:Enabling v2 tensorshape\n",
      "INFO:tensorflow:Enabling resource variables\n",
      "INFO:tensorflow:Enabling tensor equality\n",
      "INFO:tensorflow:Enabling control flow v2\n"
     ]
    }
   ],
   "source": [
    "import json\n",
    "import pandas as pd\n",
    "import numpy as np\n",
    "import tensorflow as tf\n",
    "from tensorflow import keras\n",
    "import pandas as pd\n",
    "import nltk\n",
    "from nltk.corpus import stopwords \n",
    "import re\n",
    "import string\n",
    "import matplotlib.pyplot as plt\n",
    "import matplotlib.dates as mdates\n",
    "from matplotlib.pyplot import figure\n",
    "from tensorflow.keras.preprocessing.text import Tokenizer\n",
    "from tensorflow.keras.preprocessing.sequence import pad_sequences\n",
    "from tensorflow.keras.models import Sequential \n",
    "from tensorflow.keras.layers import Flatten, Dense, Embedding\n",
    "from keras import backend as K\n",
    "import spacy\n",
    "from textblob import TextBlob\n",
    "from textblob import Word\n",
    "from datetime import datetime\n",
    "import seaborn as sns\n",
    "\n",
    "from nltk import word_tokenize, pos_tag\n",
    "from nltk.stem import WordNetLemmatizer\n",
    "from nltk.tokenize import sent_tokenize\n",
    "from nltk.corpus import wordnet as wn\n",
    "from nltk.corpus import stopwords\n",
    "from gensim.corpora.dictionary import Dictionary\n",
    "from gensim.models.tfidfmodel import TfidfModel\n",
    "from sklearn.metrics import confusion_matrix, accuracy_score, classification_report"
   ]
  },
  {
   "cell_type": "markdown",
   "id": "useful-tenant",
   "metadata": {},
   "source": [
    "### Data Collection"
   ]
  },
  {
   "cell_type": "code",
   "execution_count": 2,
   "id": "regulated-blackberry",
   "metadata": {},
   "outputs": [
    {
     "name": "stdout",
     "output_type": "stream",
     "text": [
      "3.8.3\n",
      "3.5\n"
     ]
    }
   ],
   "source": [
    "import gensim\n",
    "print(gensim.__version__)\n",
    "import nltk\n",
    "print(nltk.__version__)"
   ]
  },
  {
   "cell_type": "code",
   "execution_count": 12,
   "id": "julian-district",
   "metadata": {},
   "outputs": [],
   "source": [
    "df = pd.read_json('All_Beauty.json', lines= True)"
   ]
  },
  {
   "cell_type": "code",
   "execution_count": 13,
   "id": "finnish-iraqi",
   "metadata": {},
   "outputs": [
    {
     "data": {
      "text/html": [
       "<div>\n",
       "<style scoped>\n",
       "    .dataframe tbody tr th:only-of-type {\n",
       "        vertical-align: middle;\n",
       "    }\n",
       "\n",
       "    .dataframe tbody tr th {\n",
       "        vertical-align: top;\n",
       "    }\n",
       "\n",
       "    .dataframe thead th {\n",
       "        text-align: right;\n",
       "    }\n",
       "</style>\n",
       "<table border=\"1\" class=\"dataframe\">\n",
       "  <thead>\n",
       "    <tr style=\"text-align: right;\">\n",
       "      <th></th>\n",
       "      <th>overall</th>\n",
       "      <th>verified</th>\n",
       "      <th>reviewTime</th>\n",
       "      <th>reviewerID</th>\n",
       "      <th>asin</th>\n",
       "      <th>reviewerName</th>\n",
       "      <th>reviewText</th>\n",
       "      <th>summary</th>\n",
       "      <th>unixReviewTime</th>\n",
       "      <th>vote</th>\n",
       "      <th>style</th>\n",
       "      <th>image</th>\n",
       "    </tr>\n",
       "  </thead>\n",
       "  <tbody>\n",
       "    <tr>\n",
       "      <th>0</th>\n",
       "      <td>1</td>\n",
       "      <td>True</td>\n",
       "      <td>02 19, 2015</td>\n",
       "      <td>A1V6B6TNIC10QE</td>\n",
       "      <td>0143026860</td>\n",
       "      <td>theodore j bigham</td>\n",
       "      <td>great</td>\n",
       "      <td>One Star</td>\n",
       "      <td>1424304000</td>\n",
       "      <td>NaN</td>\n",
       "      <td>NaN</td>\n",
       "      <td>NaN</td>\n",
       "    </tr>\n",
       "    <tr>\n",
       "      <th>1</th>\n",
       "      <td>4</td>\n",
       "      <td>True</td>\n",
       "      <td>12 18, 2014</td>\n",
       "      <td>A2F5GHSXFQ0W6J</td>\n",
       "      <td>0143026860</td>\n",
       "      <td>Mary K. Byke</td>\n",
       "      <td>My  husband wanted to reading about the Negro ...</td>\n",
       "      <td>... to reading about the Negro Baseball and th...</td>\n",
       "      <td>1418860800</td>\n",
       "      <td>NaN</td>\n",
       "      <td>NaN</td>\n",
       "      <td>NaN</td>\n",
       "    </tr>\n",
       "    <tr>\n",
       "      <th>2</th>\n",
       "      <td>4</td>\n",
       "      <td>True</td>\n",
       "      <td>08 10, 2014</td>\n",
       "      <td>A1572GUYS7DGSR</td>\n",
       "      <td>0143026860</td>\n",
       "      <td>David G</td>\n",
       "      <td>This book was very informative, covering all a...</td>\n",
       "      <td>Worth the Read</td>\n",
       "      <td>1407628800</td>\n",
       "      <td>NaN</td>\n",
       "      <td>NaN</td>\n",
       "      <td>NaN</td>\n",
       "    </tr>\n",
       "    <tr>\n",
       "      <th>3</th>\n",
       "      <td>5</td>\n",
       "      <td>True</td>\n",
       "      <td>03 11, 2013</td>\n",
       "      <td>A1PSGLFK1NSVO</td>\n",
       "      <td>0143026860</td>\n",
       "      <td>TamB</td>\n",
       "      <td>I am already a baseball fan and knew a bit abo...</td>\n",
       "      <td>Good Read</td>\n",
       "      <td>1362960000</td>\n",
       "      <td>NaN</td>\n",
       "      <td>NaN</td>\n",
       "      <td>NaN</td>\n",
       "    </tr>\n",
       "    <tr>\n",
       "      <th>4</th>\n",
       "      <td>5</td>\n",
       "      <td>True</td>\n",
       "      <td>12 25, 2011</td>\n",
       "      <td>A6IKXKZMTKGSC</td>\n",
       "      <td>0143026860</td>\n",
       "      <td>shoecanary</td>\n",
       "      <td>This was a good story of the Black leagues. I ...</td>\n",
       "      <td>More than facts, a good story read!</td>\n",
       "      <td>1324771200</td>\n",
       "      <td>5</td>\n",
       "      <td>NaN</td>\n",
       "      <td>NaN</td>\n",
       "    </tr>\n",
       "  </tbody>\n",
       "</table>\n",
       "</div>"
      ],
      "text/plain": [
       "   overall  verified   reviewTime      reviewerID        asin  \\\n",
       "0        1      True  02 19, 2015  A1V6B6TNIC10QE  0143026860   \n",
       "1        4      True  12 18, 2014  A2F5GHSXFQ0W6J  0143026860   \n",
       "2        4      True  08 10, 2014  A1572GUYS7DGSR  0143026860   \n",
       "3        5      True  03 11, 2013   A1PSGLFK1NSVO  0143026860   \n",
       "4        5      True  12 25, 2011   A6IKXKZMTKGSC  0143026860   \n",
       "\n",
       "        reviewerName                                         reviewText  \\\n",
       "0  theodore j bigham                                              great   \n",
       "1       Mary K. Byke  My  husband wanted to reading about the Negro ...   \n",
       "2            David G  This book was very informative, covering all a...   \n",
       "3               TamB  I am already a baseball fan and knew a bit abo...   \n",
       "4         shoecanary  This was a good story of the Black leagues. I ...   \n",
       "\n",
       "                                             summary  unixReviewTime vote  \\\n",
       "0                                           One Star      1424304000  NaN   \n",
       "1  ... to reading about the Negro Baseball and th...      1418860800  NaN   \n",
       "2                                     Worth the Read      1407628800  NaN   \n",
       "3                                          Good Read      1362960000  NaN   \n",
       "4                More than facts, a good story read!      1324771200    5   \n",
       "\n",
       "  style image  \n",
       "0   NaN   NaN  \n",
       "1   NaN   NaN  \n",
       "2   NaN   NaN  \n",
       "3   NaN   NaN  \n",
       "4   NaN   NaN  "
      ]
     },
     "execution_count": 13,
     "metadata": {},
     "output_type": "execute_result"
    }
   ],
   "source": [
    "df.head()"
   ]
  },
  {
   "cell_type": "code",
   "execution_count": 14,
   "id": "applied-strip",
   "metadata": {},
   "outputs": [
    {
     "data": {
      "text/plain": [
       "(371345, 12)"
      ]
     },
     "execution_count": 14,
     "metadata": {},
     "output_type": "execute_result"
    }
   ],
   "source": [
    "df.shape"
   ]
  },
  {
   "cell_type": "code",
   "execution_count": 15,
   "id": "vanilla-exhibition",
   "metadata": {},
   "outputs": [
    {
     "data": {
      "text/plain": [
       "overall                0\n",
       "verified               0\n",
       "reviewTime             0\n",
       "reviewerID             0\n",
       "asin                   0\n",
       "reviewerName          38\n",
       "reviewText           399\n",
       "summary              206\n",
       "unixReviewTime         0\n",
       "vote              319446\n",
       "style             245387\n",
       "image             362954\n",
       "dtype: int64"
      ]
     },
     "execution_count": 15,
     "metadata": {},
     "output_type": "execute_result"
    }
   ],
   "source": [
    "df.isna().sum()"
   ]
  },
  {
   "cell_type": "code",
   "execution_count": 8,
   "id": "regular-cable",
   "metadata": {},
   "outputs": [
    {
     "name": "stdout",
     "output_type": "stream",
     "text": [
      "<class 'pandas.core.frame.DataFrame'>\n",
      "RangeIndex: 371345 entries, 0 to 371344\n",
      "Data columns (total 12 columns):\n",
      " #   Column          Non-Null Count   Dtype  \n",
      "---  ------          --------------   -----  \n",
      " 0   overall         371345 non-null  float64\n",
      " 1   verified        371345 non-null  bool   \n",
      " 2   reviewTime      371345 non-null  object \n",
      " 3   reviewerID      371345 non-null  object \n",
      " 4   asin            371345 non-null  object \n",
      " 5   reviewerName    371307 non-null  object \n",
      " 6   reviewText      370946 non-null  object \n",
      " 7   summary         371139 non-null  object \n",
      " 8   unixReviewTime  371345 non-null  int64  \n",
      " 9   vote            51899 non-null   object \n",
      " 10  style           125958 non-null  object \n",
      " 11  image           8391 non-null    object \n",
      "dtypes: bool(1), float64(1), int64(1), object(9)\n",
      "memory usage: 31.5+ MB\n"
     ]
    }
   ],
   "source": [
    "df.info()"
   ]
  },
  {
   "cell_type": "markdown",
   "id": "awful-printing",
   "metadata": {},
   "source": [
    "The unixReviewTime is converted from Unix time to classical datetime format and after that reviewTime column is dropped from dataframe."
   ]
  },
  {
   "cell_type": "code",
   "execution_count": 9,
   "id": "norman-company",
   "metadata": {},
   "outputs": [],
   "source": [
    "date_funct = lambda row: datetime.fromtimestamp(row).strftime(\"%d.%m.%Y\")\n",
    "df[\"unixReviewTime\"] = df[\"unixReviewTime\"].apply(date_funct)"
   ]
  },
  {
   "cell_type": "code",
   "execution_count": 10,
   "id": "patent-quarter",
   "metadata": {},
   "outputs": [],
   "source": [
    "df.drop(\"reviewTime\", axis=1, inplace=True)"
   ]
  },
  {
   "cell_type": "code",
   "execution_count": 11,
   "id": "metropolitan-diagnosis",
   "metadata": {},
   "outputs": [
    {
     "name": "stdout",
     "output_type": "stream",
     "text": [
      "<class 'pandas.core.frame.DataFrame'>\n",
      "RangeIndex: 371345 entries, 0 to 371344\n",
      "Data columns (total 11 columns):\n",
      " #   Column          Non-Null Count   Dtype  \n",
      "---  ------          --------------   -----  \n",
      " 0   overall         371345 non-null  float64\n",
      " 1   verified        371345 non-null  bool   \n",
      " 2   reviewerID      371345 non-null  object \n",
      " 3   asin            371345 non-null  object \n",
      " 4   reviewerName    371307 non-null  object \n",
      " 5   reviewText      370946 non-null  object \n",
      " 6   summary         371139 non-null  object \n",
      " 7   unixReviewTime  371345 non-null  object \n",
      " 8   vote            51899 non-null   object \n",
      " 9   style           125958 non-null  object \n",
      " 10  image           8391 non-null    object \n",
      "dtypes: bool(1), float64(1), object(9)\n",
      "memory usage: 28.7+ MB\n"
     ]
    }
   ],
   "source": [
    "df.info()"
   ]
  },
  {
   "cell_type": "code",
   "execution_count": 12,
   "id": "turkish-tribute",
   "metadata": {},
   "outputs": [
    {
     "name": "stdout",
     "output_type": "stream",
     "text": [
      "32586\n"
     ]
    }
   ],
   "source": [
    "print(df.asin.nunique())"
   ]
  },
  {
   "cell_type": "code",
   "execution_count": 13,
   "id": "limiting-valley",
   "metadata": {},
   "outputs": [
    {
     "name": "stdout",
     "output_type": "stream",
     "text": [
      "324038\n"
     ]
    }
   ],
   "source": [
    "print(df.reviewerID.nunique())"
   ]
  },
  {
   "cell_type": "markdown",
   "id": "abstract-avatar",
   "metadata": {},
   "source": [
    "A sample customer review of a product is below:"
   ]
  },
  {
   "cell_type": "code",
   "execution_count": 14,
   "id": "deluxe-reality",
   "metadata": {},
   "outputs": [
    {
     "data": {
      "text/plain": [
       "\"The product was supposed to be new. The package had been opened before. Now that I have tried it, the poor staying quality tells me that this is not the real Dermacol foundation. Other differences are fake has no color number on tube, smaller lid circumferance & longer lid on the fake, real lid has gold fleck appearance, liquid pours out of fake tube upon opening, fake tube's length is longer than real tube. The shade color is not the same as the real Dermacol 221 I purchased from different seller.\""
      ]
     },
     "execution_count": 14,
     "metadata": {},
     "output_type": "execute_result"
    }
   ],
   "source": [
    "df[\"reviewText\"][300102]"
   ]
  },
  {
   "cell_type": "markdown",
   "id": "peaceful-drinking",
   "metadata": {},
   "source": [
    "### Rating Distribution"
   ]
  },
  {
   "cell_type": "code",
   "execution_count": 15,
   "id": "effective-gentleman",
   "metadata": {},
   "outputs": [
    {
     "name": "stdout",
     "output_type": "stream",
     "text": [
      "[1. 4. 5. 2. 3.]\n"
     ]
    }
   ],
   "source": [
    "print(df.overall.unique())"
   ]
  },
  {
   "cell_type": "markdown",
   "id": "incident-crazy",
   "metadata": {},
   "source": [
    "As you can see below, there is an unbalancing problem in the rating distribution in the dataset. Later in the study, we will try some techniques to overcome this situation at the modelling stage:"
   ]
  },
  {
   "cell_type": "code",
   "execution_count": 16,
   "id": "secret-anderson",
   "metadata": {},
   "outputs": [
    {
     "data": {
      "text/plain": [
       "5.0    229549\n",
       "4.0     52687\n",
       "1.0     39261\n",
       "3.0     29555\n",
       "2.0     20293\n",
       "Name: overall, dtype: int64"
      ]
     },
     "execution_count": 16,
     "metadata": {},
     "output_type": "execute_result"
    }
   ],
   "source": [
    "df['overall'].value_counts()"
   ]
  },
  {
   "cell_type": "code",
   "execution_count": 16,
   "id": "atomic-ranch",
   "metadata": {
    "scrolled": true
   },
   "outputs": [
    {
     "data": {
      "image/png": "[encoded data removed]",
      "text/plain": [
       "<Figure size 864x504 with 1 Axes>"
      ]
     },
     "metadata": {
      "needs_background": "light"
     },
     "output_type": "display_data"
    }
   ],
   "source": [
    "f, axes = plt.subplots(figsize=(12,7))\n",
    "ax = sns.countplot(x=df[\"overall\"], palette=\"pastel\")\n",
    "ax.set(title=\"Overall Distribution\", \\\n",
    "       xlabel=\"Rating\", ylabel=\"Number of Reviews\")\n",
    "plt.show()"
   ]
  },
  {
   "cell_type": "markdown",
   "id": "delayed-locking",
   "metadata": {},
   "source": [
    "### NLP Pre-Processing"
   ]
  },
  {
   "cell_type": "code",
   "execution_count": 25,
   "id": "preceding-beads",
   "metadata": {},
   "outputs": [
    {
     "data": {
      "text/plain": [
       "'!\"#$%&\\'()*+,-./:;<=>?@[\\\\]^_`{|}~'"
      ]
     },
     "execution_count": 25,
     "metadata": {},
     "output_type": "execute_result"
    }
   ],
   "source": [
    "string.punctuation"
   ]
  },
  {
   "cell_type": "code",
   "execution_count": 26,
   "id": "ranking-thesis",
   "metadata": {},
   "outputs": [],
   "source": [
    "pattern = r\"\\&\\#[0-9]+\\;\"\n",
    "\n",
    "df[\"reviewText\"] = df[\"reviewText\"].str.replace(pat=pattern, repl=\"\", regex=True)"
   ]
  },
  {
   "cell_type": "markdown",
   "id": "native-guitar",
   "metadata": {},
   "source": [
    "Dropping duplicated rows and na's."
   ]
  },
  {
   "cell_type": "code",
   "execution_count": 27,
   "id": "magnetic-wholesale",
   "metadata": {},
   "outputs": [],
   "source": [
    "df.drop_duplicates(subset=['reviewText'],inplace=True)"
   ]
  },
  {
   "cell_type": "code",
   "execution_count": 28,
   "id": "grand-attendance",
   "metadata": {},
   "outputs": [],
   "source": [
    "df['reviewText'].dropna(inplace = True)"
   ]
  },
  {
   "cell_type": "code",
   "execution_count": 29,
   "id": "floating-dakota",
   "metadata": {},
   "outputs": [
    {
     "data": {
      "text/plain": [
       "319643"
      ]
     },
     "execution_count": 29,
     "metadata": {},
     "output_type": "execute_result"
    }
   ],
   "source": [
    "df['reviewText'].count()"
   ]
  },
  {
   "cell_type": "code",
   "execution_count": 30,
   "id": "adopted-growing",
   "metadata": {},
   "outputs": [],
   "source": [
    "df['reviewText']=df['reviewText'].apply(str)"
   ]
  },
  {
   "cell_type": "markdown",
   "id": "tested-auction",
   "metadata": {},
   "source": [
    "### WordNetLemmatizer Sample pos_tag"
   ]
  },
  {
   "cell_type": "code",
   "execution_count": 31,
   "id": "bound-photograph",
   "metadata": {},
   "outputs": [
    {
     "name": "stdout",
     "output_type": "stream",
     "text": [
      "('Looks', 'VBZ')\n",
      "('exactly', 'RB')\n",
      "('the', 'DT')\n",
      "('same', 'JJ')\n",
      "('as', 'IN')\n"
     ]
    }
   ],
   "source": [
    "import nltk\n",
    "from nltk.stem import WordNetLemmatizer\n",
    "wordnet_lemmatizer = WordNetLemmatizer()\n",
    "text = df['reviewText'][100]\n",
    "tokenization = nltk.word_tokenize(text)\n",
    "tagged_token = pos_tag(tokenization)\n",
    "for w in tagged_token[:5]:\n",
    "    print(w)"
   ]
  },
  {
   "cell_type": "markdown",
   "id": "accepting-paste",
   "metadata": {},
   "source": [
    "### Extracting the root of word with Lemmatization"
   ]
  },
  {
   "cell_type": "code",
   "execution_count": 141,
   "id": "apart-cooling",
   "metadata": {},
   "outputs": [
    {
     "name": "stdout",
     "output_type": "stream",
     "text": [
      "CPU times: user 12min 15s, sys: 22.6 s, total: 12min 38s\n",
      "Wall time: 12min 39s\n"
     ]
    }
   ],
   "source": [
    "%%time\n",
    "\n",
    "lemmatizer = WordNetLemmatizer()\n",
    "\n",
    "def lemmatize_word(tagged_token):\n",
    "    root = []\n",
    "    for token in tagged_token:\n",
    "        tag = token[1][0]\n",
    "        word = token[0]\n",
    "        if tag.startswith('J'):\n",
    "            root.append(lemmatizer.lemmatize(word, wn.ADJ))\n",
    "        elif tag.startswith('V'):\n",
    "            root.append(lemmatizer.lemmatize(word, wn.VERB))\n",
    "        elif tag.startswith('N'):\n",
    "            root.append(lemmatizer.lemmatize(word, wn.NOUN))\n",
    "        elif tag.startswith('R'):\n",
    "            root.append(lemmatizer.lemmatize(word, wn.ADV))\n",
    "        else:          \n",
    "            root.append(word)\n",
    "    return root\n",
    "\n",
    "def lemmatize_rev(rev):  \n",
    "    lemma_list = []\n",
    "    tokenized_sent = sent_tokenize(rev)\n",
    "    for sentence in tokenized_sent:\n",
    "        rem_punctuation = re.sub(r\"[!\\\"#$%&\\'()*+,-./:;<=>?@[\\\\]^_`{|}~]\", \" \", sentence)\n",
    "        tokenized_word = word_tokenize(rem_punctuation)\n",
    "        tagged_token = pos_tag(tokenized_word)\n",
    "        lemmatized = lemmatize_word(tagged_token)\n",
    "        lemma_list.extend(lemmatized)\n",
    "    return \" \".join(lemma_list)\n",
    "\n",
    "\n",
    "df[\"reviewText\"] = df[\"reviewText\"].apply(lambda row: lemmatize_rev(row))"
   ]
  },
  {
   "cell_type": "markdown",
   "id": "recognized-protection",
   "metadata": {},
   "source": [
    "### Saving lemmatized df in CSV format "
   ]
  },
  {
   "cell_type": "code",
   "execution_count": 279,
   "id": "frank-shade",
   "metadata": {},
   "outputs": [],
   "source": [
    "df.to_csv('lemmatized_beauty_final2.csv', index=False)"
   ]
  },
  {
   "cell_type": "code",
   "execution_count": 226,
   "id": "clean-tanzania",
   "metadata": {},
   "outputs": [
    {
     "name": "stderr",
     "output_type": "stream",
     "text": [
      "/Library/Frameworks/Python.framework/Versions/3.9/lib/python3.9/site-packages/IPython/core/interactiveshell.py:3165: DtypeWarning: Columns (8) have mixed types.Specify dtype option on import or set low_memory=False.\n",
      "  has_raised = await self.run_ast_nodes(code_ast.body, cell_name,\n"
     ]
    }
   ],
   "source": [
    "df_lemmatized = pd.read_csv('lemmatized_beauty_final.csv')"
   ]
  },
  {
   "cell_type": "code",
   "execution_count": 227,
   "id": "anticipated-polyester",
   "metadata": {},
   "outputs": [
    {
     "data": {
      "text/html": [
       "<div>\n",
       "<style scoped>\n",
       "    .dataframe tbody tr th:only-of-type {\n",
       "        vertical-align: middle;\n",
       "    }\n",
       "\n",
       "    .dataframe tbody tr th {\n",
       "        vertical-align: top;\n",
       "    }\n",
       "\n",
       "    .dataframe thead th {\n",
       "        text-align: right;\n",
       "    }\n",
       "</style>\n",
       "<table border=\"1\" class=\"dataframe\">\n",
       "  <thead>\n",
       "    <tr style=\"text-align: right;\">\n",
       "      <th></th>\n",
       "      <th>overall</th>\n",
       "      <th>verified</th>\n",
       "      <th>reviewerID</th>\n",
       "      <th>asin</th>\n",
       "      <th>reviewerName</th>\n",
       "      <th>reviewText</th>\n",
       "      <th>summary</th>\n",
       "      <th>unixReviewTime</th>\n",
       "      <th>vote</th>\n",
       "      <th>style</th>\n",
       "      <th>image</th>\n",
       "    </tr>\n",
       "  </thead>\n",
       "  <tbody>\n",
       "    <tr>\n",
       "      <th>0</th>\n",
       "      <td>1.0</td>\n",
       "      <td>True</td>\n",
       "      <td>A1V6B6TNIC10QE</td>\n",
       "      <td>0143026860</td>\n",
       "      <td>theodore j bigham</td>\n",
       "      <td>great</td>\n",
       "      <td>One Star</td>\n",
       "      <td>19.02.2015</td>\n",
       "      <td>NaN</td>\n",
       "      <td>NaN</td>\n",
       "      <td>NaN</td>\n",
       "    </tr>\n",
       "    <tr>\n",
       "      <th>1</th>\n",
       "      <td>4.0</td>\n",
       "      <td>True</td>\n",
       "      <td>A2F5GHSXFQ0W6J</td>\n",
       "      <td>0143026860</td>\n",
       "      <td>Mary K. Byke</td>\n",
       "      <td>My husband want to read about the Negro Baseba...</td>\n",
       "      <td>... to reading about the Negro Baseball and th...</td>\n",
       "      <td>18.12.2014</td>\n",
       "      <td>NaN</td>\n",
       "      <td>NaN</td>\n",
       "      <td>NaN</td>\n",
       "    </tr>\n",
       "    <tr>\n",
       "      <th>2</th>\n",
       "      <td>4.0</td>\n",
       "      <td>True</td>\n",
       "      <td>A1572GUYS7DGSR</td>\n",
       "      <td>0143026860</td>\n",
       "      <td>David G</td>\n",
       "      <td>This book be very informative , cover all aspe...</td>\n",
       "      <td>Worth the Read</td>\n",
       "      <td>10.08.2014</td>\n",
       "      <td>NaN</td>\n",
       "      <td>NaN</td>\n",
       "      <td>NaN</td>\n",
       "    </tr>\n",
       "    <tr>\n",
       "      <th>3</th>\n",
       "      <td>5.0</td>\n",
       "      <td>True</td>\n",
       "      <td>A1PSGLFK1NSVO</td>\n",
       "      <td>0143026860</td>\n",
       "      <td>TamB</td>\n",
       "      <td>I be already a baseball fan and know a bit abo...</td>\n",
       "      <td>Good Read</td>\n",
       "      <td>11.03.2013</td>\n",
       "      <td>NaN</td>\n",
       "      <td>NaN</td>\n",
       "      <td>NaN</td>\n",
       "    </tr>\n",
       "    <tr>\n",
       "      <th>4</th>\n",
       "      <td>5.0</td>\n",
       "      <td>True</td>\n",
       "      <td>A6IKXKZMTKGSC</td>\n",
       "      <td>0143026860</td>\n",
       "      <td>shoecanary</td>\n",
       "      <td>This be a good story of the Black league . I b...</td>\n",
       "      <td>More than facts, a good story read!</td>\n",
       "      <td>25.12.2011</td>\n",
       "      <td>5</td>\n",
       "      <td>NaN</td>\n",
       "      <td>NaN</td>\n",
       "    </tr>\n",
       "  </tbody>\n",
       "</table>\n",
       "</div>"
      ],
      "text/plain": [
       "   overall  verified      reviewerID        asin       reviewerName  \\\n",
       "0      1.0      True  A1V6B6TNIC10QE  0143026860  theodore j bigham   \n",
       "1      4.0      True  A2F5GHSXFQ0W6J  0143026860       Mary K. Byke   \n",
       "2      4.0      True  A1572GUYS7DGSR  0143026860            David G   \n",
       "3      5.0      True   A1PSGLFK1NSVO  0143026860               TamB   \n",
       "4      5.0      True   A6IKXKZMTKGSC  0143026860         shoecanary   \n",
       "\n",
       "                                          reviewText  \\\n",
       "0                                              great   \n",
       "1  My husband want to read about the Negro Baseba...   \n",
       "2  This book be very informative , cover all aspe...   \n",
       "3  I be already a baseball fan and know a bit abo...   \n",
       "4  This be a good story of the Black league . I b...   \n",
       "\n",
       "                                             summary unixReviewTime vote  \\\n",
       "0                                           One Star     19.02.2015  NaN   \n",
       "1  ... to reading about the Negro Baseball and th...     18.12.2014  NaN   \n",
       "2                                     Worth the Read     10.08.2014  NaN   \n",
       "3                                          Good Read     11.03.2013  NaN   \n",
       "4                More than facts, a good story read!     25.12.2011    5   \n",
       "\n",
       "  style image  \n",
       "0   NaN   NaN  \n",
       "1   NaN   NaN  \n",
       "2   NaN   NaN  \n",
       "3   NaN   NaN  \n",
       "4   NaN   NaN  "
      ]
     },
     "execution_count": 227,
     "metadata": {},
     "output_type": "execute_result"
    }
   ],
   "source": [
    "df_lemmatized.head()"
   ]
  },
  {
   "cell_type": "code",
   "execution_count": 228,
   "id": "rapid-census",
   "metadata": {},
   "outputs": [
    {
     "data": {
      "text/plain": [
       "\"The product be suppose to be new . The package have be open before . Now that I have try it , the poor stay quality tell me that this be not the real Dermacol foundation . Other difference be fake have no color number on tube , small lid circumferance & long lid on the fake , real lid have gold fleck appearance , liquid pour out of fake tube upon opening , fake tube 's length be long than real tube . The shade color be not the same as the real Dermacol 221 I purchase from different seller .\""
      ]
     },
     "execution_count": 228,
     "metadata": {},
     "output_type": "execute_result"
    }
   ],
   "source": [
    "df_lemmatized[\"reviewText\"][256547]"
   ]
  },
  {
   "cell_type": "markdown",
   "id": "established-woman",
   "metadata": {},
   "source": [
    "### Converting to Lower Case"
   ]
  },
  {
   "cell_type": "code",
   "execution_count": 229,
   "id": "handled-springer",
   "metadata": {},
   "outputs": [],
   "source": [
    "df_lemmatized[\"reviewText\"] = df_lemmatized[\"reviewText\"].str.lower()"
   ]
  },
  {
   "cell_type": "markdown",
   "id": "yellow-latter",
   "metadata": {},
   "source": [
    "### Removing the Stop Words"
   ]
  },
  {
   "cell_type": "code",
   "execution_count": 230,
   "id": "rapid-butler",
   "metadata": {},
   "outputs": [],
   "source": [
    "stop_words = stopwords.words(\"english\")\n",
    "\n",
    "df_lemmatized[\"reviewText\"] = df_lemmatized[\"reviewText\"].apply(str)\n",
    "        \n",
    "\n",
    "remove_stop_words = lambda row: \" \".join([token for token in row.split(\" \") \\\n",
    "                                          if token not in stop_words and len(token) > 2])\n",
    "df_lemmatized[\"reviewText\"] = df_lemmatized[\"reviewText\"].apply(remove_stop_words)"
   ]
  },
  {
   "cell_type": "markdown",
   "id": "linear-plymouth",
   "metadata": {},
   "source": [
    "### Keeping only Alphanumeric Chars and White Spaces and Removing Extra Spaces"
   ]
  },
  {
   "cell_type": "code",
   "execution_count": 231,
   "id": "packed-cabinet",
   "metadata": {},
   "outputs": [],
   "source": [
    "df_lemmatized[\"reviewText\"] = df_lemmatized[\"reviewText\"].str.replace(pat=r\"[^\\w\\s]\", repl=\" \", regex=True)\n",
    "df_lemmatized[\"reviewText\"] = df_lemmatized[\"reviewText\"].str.replace(pat=r\"[\\d]\", repl=\" \", regex=True)\n",
    "df_lemmatized[\"reviewText\"] = df_lemmatized[\"reviewText\"].str.replace(pat=r\"[\\s]+\", repl=\" \", regex=True)\n",
    "df_lemmatized[\"reviewText\"] = df_lemmatized[\"reviewText\"].str.replace(pat=r\"[!\\\"#$%&\\'()*+,-./:;<=>?@[\\\\]^_`{|}~]\", repl=\" \", regex=True)"
   ]
  },
  {
   "cell_type": "code",
   "execution_count": 232,
   "id": "crazy-prescription",
   "metadata": {},
   "outputs": [
    {
     "data": {
      "text/plain": [
       "'product suppose new package open try poor stay quality tell real dermacol foundation difference fake color number tube small lid circumferance long lid fake real lid gold fleck appearance liquid pour fake tube upon opening fake tube length long real tube shade color real dermacol purchase different seller'"
      ]
     },
     "execution_count": 232,
     "metadata": {},
     "output_type": "execute_result"
    }
   ],
   "source": [
    "df_lemmatized[\"reviewText\"][256547]"
   ]
  },
  {
   "cell_type": "markdown",
   "id": "complete-salvation",
   "metadata": {},
   "source": [
    "### Tokenization"
   ]
  },
  {
   "cell_type": "code",
   "execution_count": 201,
   "id": "opened-forest",
   "metadata": {},
   "outputs": [
    {
     "data": {
      "text/plain": [
       "\"The product was supposed to be new. The package had been opened before. Now that I have tried it, the poor staying quality tells me that this is not the real Dermacol foundation. Other differences are fake has no color number on tube, smaller lid circumferance & longer lid on the fake, real lid has gold fleck appearance, liquid pours out of fake tube upon opening, fake tube's length is longer than real tube. The shade color is not the same as the real Dermacol 221 I purchased from different seller.\""
      ]
     },
     "execution_count": 201,
     "metadata": {},
     "output_type": "execute_result"
    }
   ],
   "source": [
    "df['reviewText'][300102]"
   ]
  },
  {
   "cell_type": "code",
   "execution_count": 202,
   "id": "decreased-corpus",
   "metadata": {},
   "outputs": [
    {
     "data": {
      "text/plain": [
       "'product suppose new package open try poor stay quality tell real dermacol foundation difference fake color number tube small lid circumferance long lid fake real lid gold fleck appearance liquid pour fake tube upon opening fake tube length long real tube shade color real dermacol 221 purchase different seller'"
      ]
     },
     "execution_count": 202,
     "metadata": {},
     "output_type": "execute_result"
    }
   ],
   "source": [
    "df_lemmatized['reviewText'][256547]"
   ]
  },
  {
   "cell_type": "code",
   "execution_count": 203,
   "id": "cosmetic-survivor",
   "metadata": {},
   "outputs": [
    {
     "name": "stdout",
     "output_type": "stream",
     "text": [
      "['product', 'suppose', 'new', 'package', 'open', 'try', 'poor', 'stay', 'quality', 'tell', 'real', 'dermacol', 'foundation', 'difference', 'fake', 'color', 'number', 'tube', 'small', 'lid', 'circumferance', 'long', 'lid', 'fake', 'real', 'lid', 'gold', 'fleck', 'appearance', 'liquid', 'pour', 'fake', 'tube', 'upon', 'opening', 'fake', 'tube', 'length', 'long', 'real', 'tube', 'shade', 'color', 'real', 'dermacol', '221', 'purchase', 'different', 'seller']\n"
     ]
    }
   ],
   "source": [
    "corpora = df_lemmatized[\"reviewText\"].values\n",
    "tokenized = [corpus.split(\" \") for corpus in corpora]\n",
    "\n",
    "\n",
    "\n",
    "print(tokenized[256547])"
   ]
  },
  {
   "cell_type": "markdown",
   "id": "instrumental-characterization",
   "metadata": {},
   "source": [
    "### Vocabulary Creation"
   ]
  },
  {
   "cell_type": "code",
   "execution_count": 204,
   "id": "ancient-savings",
   "metadata": {},
   "outputs": [],
   "source": [
    "vocabulary = Dictionary(tokenized)"
   ]
  },
  {
   "cell_type": "code",
   "execution_count": 205,
   "id": "standard-colony",
   "metadata": {},
   "outputs": [
    {
     "data": {
      "text/plain": [
       "{'great': 0,\n",
       " 'addition': 1,\n",
       " 'baseball': 2,\n",
       " 'book': 3,\n",
       " 'haveinformation': 4,\n",
       " 'husband': 5,\n",
       " 'library': 6,\n",
       " 'n': 7,\n",
       " 'negro': 8,\n",
       " 'read': 9,\n",
       " 'start': 10,\n",
       " 't': 11,\n",
       " 'tthank': 12,\n",
       " 'want': 13,\n",
       " 'aspect': 14,\n",
       " 'cover': 15,\n",
       " 'game': 16,\n",
       " 'informative': 17,\n",
       " 'already': 18,\n",
       " 'bit': 19,\n",
       " 'fan': 20,\n",
       " 'know': 21,\n",
       " 'league': 22,\n",
       " 'learn': 23,\n",
       " 'lot': 24,\n",
       " 'reading': 25,\n",
       " 'adult': 26,\n",
       " 'also': 27,\n",
       " 'anyone': 28,\n",
       " 'audience': 29,\n",
       " 'black': 30,\n",
       " 'buy': 31,\n",
       " 'class': 32,\n",
       " 'continue': 33,\n",
       " 'enjoy': 34,\n",
       " 'exciting': 35,\n",
       " 'fact': 36,\n",
       " 'find': 37,\n",
       " 'good': 38,\n",
       " 'high': 39,\n",
       " 'history': 40,\n",
       " 'interested': 41,\n",
       " 'mckissack': 42,\n",
       " 'recommend': 43,\n",
       " 'school': 44,\n",
       " 'story': 45,\n",
       " 'teach': 46,\n",
       " 'unlike': 47,\n",
       " 'well': 48,\n",
       " 'would': 49,\n",
       " 'write': 50,\n",
       " 'young': 51,\n",
       " 'across': 52,\n",
       " 'america': 53,\n",
       " 'back': 54,\n",
       " 'barrier': 55,\n",
       " 'battle': 56,\n",
       " 'big': 57,\n",
       " 'bravely': 58,\n",
       " 'capable': 59,\n",
       " 'catch': 60,\n",
       " 'citizen': 61,\n",
       " 'color': 62,\n",
       " 'come': 63,\n",
       " 'day': 64,\n",
       " 'diamond': 65,\n",
       " 'east': 66,\n",
       " 'even': 67,\n",
       " 'every': 68,\n",
       " 'excerpt': 69,\n",
       " 'face': 70,\n",
       " 'felt': 71,\n",
       " 'flip': 72,\n",
       " 'foreign': 73,\n",
       " 'friend': 74,\n",
       " 'friendly': 75,\n",
       " 'gain': 76,\n",
       " 'gift': 77,\n",
       " 'give': 78,\n",
       " 'goodbye': 79,\n",
       " 'heroic': 80,\n",
       " 'home': 81,\n",
       " 'journey': 82,\n",
       " 'keep': 83,\n",
       " 'knowing': 84,\n",
       " 'lead': 85,\n",
       " 'leaf': 86,\n",
       " 'leagues': 87,\n",
       " 'less': 88,\n",
       " 'life': 89,\n",
       " 'like': 90,\n",
       " 'line': 91,\n",
       " 'll': 92,\n",
       " 'love': 93,\n",
       " 'major': 94,\n",
       " 'memory': 95,\n",
       " 'men': 96,\n",
       " 'mine': 97,\n",
       " 'minute': 98,\n",
       " 'much': 99,\n",
       " 'nation': 100,\n",
       " 'national': 101,\n",
       " 'one': 102,\n",
       " 'page': 103,\n",
       " 'paragraph': 104,\n",
       " 'part': 105,\n",
       " 'past': 106,\n",
       " 'pigmentation': 107,\n",
       " 'play': 108,\n",
       " 'player': 109,\n",
       " 'post': 110,\n",
       " 'povich': 111,\n",
       " 'prejudicial': 112,\n",
       " 'president': 113,\n",
       " 'prevent': 114,\n",
       " 'professional': 115,\n",
       " 'prove': 116,\n",
       " 'racial': 117,\n",
       " 'recognition': 118,\n",
       " 'recover': 119,\n",
       " 'retain': 120,\n",
       " 'say': 121,\n",
       " 'second': 122,\n",
       " 'send': 123,\n",
       " 'shirley': 124,\n",
       " 'show': 125,\n",
       " 'skin': 126,\n",
       " 'soldier': 127,\n",
       " 'spend': 128,\n",
       " 'sport': 129,\n",
       " 'still': 130,\n",
       " 'thing': 131,\n",
       " 'thirty': 132,\n",
       " 'though': 133,\n",
       " 'today': 134,\n",
       " 'travel': 135,\n",
       " 'treat': 136,\n",
       " 'truly': 137,\n",
       " 've': 138,\n",
       " 'visit': 139,\n",
       " 'war': 140,\n",
       " 'washington': 141,\n",
       " 'wish': 142,\n",
       " 'word': 143,\n",
       " 'world': 144,\n",
       " '1947': 145,\n",
       " 'american': 146,\n",
       " 'among': 147,\n",
       " 'ample': 148,\n",
       " 'assist': 149,\n",
       " 'basic': 150,\n",
       " 'bell': 151,\n",
       " 'briefly': 152,\n",
       " 'bring': 153,\n",
       " 'celebrate': 154,\n",
       " 'chance': 155,\n",
       " 'cheat': 156,\n",
       " 'circumstance': 157,\n",
       " 'city': 158,\n",
       " 'concise': 159,\n",
       " 'consider': 160,\n",
       " 'contribution': 161,\n",
       " 'cool': 162,\n",
       " 'create': 163,\n",
       " 'crow': 164,\n",
       " 'date': 165,\n",
       " 'demand': 166,\n",
       " 'discuss': 167,\n",
       " 'doom': 168,\n",
       " 'eagles': 169,\n",
       " 'easy': 170,\n",
       " 'effa': 171,\n",
       " 'event': 172,\n",
       " 'everybody': 173,\n",
       " 'experience': 174,\n",
       " 'explain': 175,\n",
       " 'fair': 176,\n",
       " 'figure': 177,\n",
       " 'foster': 178,\n",
       " 'founder': 179,\n",
       " 'gibson': 180,\n",
       " 'grays': 181,\n",
       " 'handed': 182,\n",
       " 'historical': 183,\n",
       " 'homestead': 184,\n",
       " 'illustrate': 185,\n",
       " 'imagine': 186,\n",
       " 'important': 187,\n",
       " 'include': 188,\n",
       " 'infamous': 189,\n",
       " 'integrated': 190,\n",
       " 'jim': 191,\n",
       " 'josh': 192,\n",
       " 'justice': 193,\n",
       " 'kansas': 194,\n",
       " 'legendary': 195,\n",
       " 'lose': 196,\n",
       " 'louis': 197,\n",
       " 'make': 198,\n",
       " 'manager': 199,\n",
       " 'manley': 200,\n",
       " 'mind': 201,\n",
       " 'mirror': 202,\n",
       " 'monarchs': 203,\n",
       " 'nagging': 204,\n",
       " 'nails': 205,\n",
       " 'name': 206,\n",
       " 'newark': 207,\n",
       " 'number': 208,\n",
       " 'opportunity': 209,\n",
       " 'others': 210,\n",
       " 'otherwise': 211,\n",
       " 'owner': 212,\n",
       " 'papa': 213,\n",
       " 'photograph': 214,\n",
       " 'plain': 215,\n",
       " 'point': 216,\n",
       " 'problem': 217,\n",
       " 'profile': 218,\n",
       " 'provide': 219,\n",
       " 'purpose': 220,\n",
       " 'race': 221,\n",
       " 'racism': 222,\n",
       " 'reader': 223,\n",
       " 'reference': 224,\n",
       " 'regardless': 225,\n",
       " 'relation': 226,\n",
       " 'remarkable': 227,\n",
       " 'rewarding': 228,\n",
       " 'rube': 229,\n",
       " 'saga': 230,\n",
       " 'satchel': 231,\n",
       " 'section': 232,\n",
       " 'segregate': 233,\n",
       " 'sense': 234,\n",
       " 'side': 235,\n",
       " 'skill': 236,\n",
       " 'spell': 237,\n",
       " 'spring': 238,\n",
       " 'st': 239,\n",
       " 'stars': 240,\n",
       " 'style': 241,\n",
       " 'sucessfully': 242,\n",
       " 'talent': 243,\n",
       " 'team': 244,\n",
       " 'tell': 245,\n",
       " 'text': 246,\n",
       " 'theme': 247,\n",
       " 'time': 248,\n",
       " 'tough': 249,\n",
       " 'tradition': 250,\n",
       " 'underlying': 251,\n",
       " 'void': 252,\n",
       " 'woman': 253,\n",
       " 'eye': 254,\n",
       " 'product': 255,\n",
       " 'smudge': 256,\n",
       " 'throughly': 257,\n",
       " 'appreciate': 258,\n",
       " 'feed': 259,\n",
       " 'order': 260,\n",
       " 'print': 261,\n",
       " 'regard': 262,\n",
       " 'simply': 263,\n",
       " 'burn': 264,\n",
       " 'dark': 265,\n",
       " 'eyeliner': 266,\n",
       " 'forth': 267,\n",
       " 'get': 268,\n",
       " 'light': 269,\n",
       " 'money': 270,\n",
       " 'put': 271,\n",
       " 'waste': 272,\n",
       " 'full': 273,\n",
       " 'pic': 274,\n",
       " 'size': 275,\n",
       " 'small': 276,\n",
       " 'version': 277,\n",
       " 'liner': 278,\n",
       " 'seller': 279,\n",
       " 'bellydance': 280,\n",
       " 'blind': 281,\n",
       " 'compact': 282,\n",
       " 'detail': 283,\n",
       " 'ingredient': 284,\n",
       " 'nice': 285,\n",
       " 'packaging': 286,\n",
       " 'purchase': 287,\n",
       " 'quality': 288,\n",
       " 'resale': 289,\n",
       " 'sketchy': 290,\n",
       " 'vend': 291,\n",
       " 'weekend': 292,\n",
       " 'workshop': 293,\n",
       " 'yet': 294,\n",
       " 'arrive': 295,\n",
       " 'really': 296,\n",
       " 'beautiful': 297,\n",
       " 'bold': 298,\n",
       " 'easily': 299,\n",
       " 'look': 300,\n",
       " 'drama': 301,\n",
       " 'letz': 302,\n",
       " 'talk': 303,\n",
       " 'art': 304,\n",
       " 'behind': 305,\n",
       " 'breathtaking': 306,\n",
       " 'film': 307,\n",
       " 'general': 308,\n",
       " 'gorgeous': 309,\n",
       " 'lover': 310,\n",
       " 'movie': 311,\n",
       " 'must': 312,\n",
       " 'need': 313,\n",
       " 'scenes': 314,\n",
       " 'the': 315,\n",
       " 'work': 316,\n",
       " 'abound': 317,\n",
       " 'accustomed': 318,\n",
       " 'aisling': 319,\n",
       " 'bill': 320,\n",
       " 'confess': 321,\n",
       " 'definitely': 322,\n",
       " 'disappointment': 323,\n",
       " 'emotion': 324,\n",
       " 'entirely': 325,\n",
       " 'exactly': 326,\n",
       " 'feel': 327,\n",
       " 'focus': 328,\n",
       " 'illustration': 329,\n",
       " 'insight': 330,\n",
       " 'leave': 331,\n",
       " 'little': 332,\n",
       " 'making': 333,\n",
       " 'mix': 334,\n",
       " 'pretty': 335,\n",
       " 'see': 336,\n",
       " 'showcases': 337,\n",
       " 'two': 338,\n",
       " 'artist': 339,\n",
       " 'beautifully': 340,\n",
       " 'diverse': 341,\n",
       " 'group': 342,\n",
       " 'lovely': 343,\n",
       " 'memorable': 344,\n",
       " 'person': 345,\n",
       " 'produce': 346,\n",
       " 'something': 347,\n",
       " 'study': 348,\n",
       " 'together': 349,\n",
       " 'unique': 350,\n",
       " 'vision': 351,\n",
       " 'believe': 352,\n",
       " 'boarding': 353,\n",
       " 'caption': 354,\n",
       " 'capture': 355,\n",
       " 'character': 356,\n",
       " 'comprehensive': 357,\n",
       " 'creator': 358,\n",
       " 'desiging': 359,\n",
       " 'design': 360,\n",
       " 'end': 361,\n",
       " 'explores': 362,\n",
       " 'footnote': 363,\n",
       " 'joy': 364,\n",
       " 'kells': 365,\n",
       " 'masterpiece': 366,\n",
       " 'painstakingly': 367,\n",
       " 'passionate': 368,\n",
       " 'process': 369,\n",
       " 'production': 370,\n",
       " 'respective': 371,\n",
       " 'secret': 372,\n",
       " 'writing': 373,\n",
       " '2014': 374,\n",
       " 'anyway': 375,\n",
       " 'attend': 376,\n",
       " 'classic': 377,\n",
       " 'code': 378,\n",
       " 'comic': 379,\n",
       " 'con': 380,\n",
       " 'detailed': 381,\n",
       " 'diego': 382,\n",
       " 'finally': 383,\n",
       " 'gem': 384,\n",
       " 'hand': 385,\n",
       " 'lash': 386,\n",
       " 'pencil': 387,\n",
       " 'producer': 388,\n",
       " 'remain': 389,\n",
       " 'san': 390,\n",
       " 'sign': 391,\n",
       " 'sketch': 392,\n",
       " 'solid': 393,\n",
       " 'stoked': 394,\n",
       " 'transparent': 395,\n",
       " 'value': 396,\n",
       " 'wait': 397,\n",
       " 'condition': 398,\n",
       " 'cute': 399,\n",
       " 'decal': 400,\n",
       " 'perfect': 401,\n",
       " 'quickly': 402,\n",
       " 'thank': 403,\n",
       " 'use': 404,\n",
       " 'wall': 405,\n",
       " 'window': 406,\n",
       " 'bingo': 407,\n",
       " 'fun': 408,\n",
       " 'night': 409,\n",
       " 'twist': 410,\n",
       " 'wager': 411,\n",
       " 'add': 412,\n",
       " 'birthdays': 413,\n",
       " 'card': 414,\n",
       " 'everyone': 415,\n",
       " 'special': 416,\n",
       " 'sure': 417,\n",
       " 'always': 418,\n",
       " 'brighten': 419,\n",
       " 'carry': 420,\n",
       " 'cheer': 421,\n",
       " 'could': 422,\n",
       " 'enthusiastic': 423,\n",
       " 'envelope': 424,\n",
       " 'fail': 425,\n",
       " 'gloomy': 426,\n",
       " 'grumpy': 427,\n",
       " 'last': 428,\n",
       " 'magical': 429,\n",
       " 'never': 430,\n",
       " 'patient': 431,\n",
       " 'response': 432,\n",
       " 'robert': 433,\n",
       " 'sabuda': 434,\n",
       " 'smile': 435,\n",
       " 'thanks': 436,\n",
       " 'wonderful': 437,\n",
       " 'charm': 438,\n",
       " 'cloud': 439,\n",
       " 'comment': 440,\n",
       " 'exaggerate': 441,\n",
       " 'fell': 442,\n",
       " 'forever': 443,\n",
       " 'front': 444,\n",
       " 'hang': 445,\n",
       " 'happy': 446,\n",
       " 'hold': 447,\n",
       " 'literally': 448,\n",
       " 'metal': 449,\n",
       " 'naruto': 450,\n",
       " 'overall': 451,\n",
       " 'phone': 452,\n",
       " 'pocket': 453,\n",
       " 'previous': 454,\n",
       " 'reviewer': 455,\n",
       " 'rubbery': 456,\n",
       " 'somehow': 457,\n",
       " 'think': 458,\n",
       " 'available': 459,\n",
       " 'christmas': 460,\n",
       " 'fourth': 461,\n",
       " 'item': 462,\n",
       " 'kinkade': 463,\n",
       " 'next': 464,\n",
       " 'probably': 465,\n",
       " 'series': 466,\n",
       " 'thomas': 467,\n",
       " 'year': 468,\n",
       " 'bad': 469,\n",
       " 'especially': 470,\n",
       " 'gear': 471,\n",
       " 'live': 472,\n",
       " 'nature': 473,\n",
       " 'outdoor': 474,\n",
       " 'pet': 475,\n",
       " 'ticks': 476,\n",
       " 'around': 477,\n",
       " 'cell': 478,\n",
       " 'handy': 479,\n",
       " 'picture': 480,\n",
       " 'walk': 481,\n",
       " 'way': 482,\n",
       " 'material': 483,\n",
       " 'nvr': 484,\n",
       " 'right': 485,\n",
       " 'ship': 486,\n",
       " 'true': 487,\n",
       " 'type': 488,\n",
       " 'bathroom': 489,\n",
       " 'brush': 490,\n",
       " 'razor': 491,\n",
       " 'set': 492,\n",
       " 'sick': 493,\n",
       " 'stand': 494,\n",
       " 'worth': 495,\n",
       " 'absolutely': 496,\n",
       " 'boyfriend': 497,\n",
       " 'hope': 498,\n",
       " 'looks': 499,\n",
       " 'many': 500,\n",
       " 'classy': 501,\n",
       " 'holds': 502,\n",
       " 'polish': 503,\n",
       " 'bend': 504,\n",
       " 'fine': 505,\n",
       " 'fit': 506,\n",
       " 'construction': 507,\n",
       " 'finish': 508,\n",
       " 'appeal': 509,\n",
       " 'built': 510,\n",
       " 'esthetically': 511,\n",
       " 'highly': 512,\n",
       " 'mostly': 513,\n",
       " 'practical': 514,\n",
       " 'price': 515,\n",
       " 'recommended': 516,\n",
       " 'bottom': 517,\n",
       " 'holder': 518,\n",
       " 'loosen': 519,\n",
       " 'padding': 520,\n",
       " 'remove': 521,\n",
       " 'screw': 522,\n",
       " 'tighten': 523,\n",
       " 'unless': 524,\n",
       " 'wobbly': 525,\n",
       " 'counter': 526,\n",
       " 'enough': 527,\n",
       " 'push': 528,\n",
       " 'shave': 529,\n",
       " 'topple': 530,\n",
       " 'weigh': 531,\n",
       " 'old': 532,\n",
       " 'perfecto': 533,\n",
       " 'base': 534,\n",
       " 'craft': 535,\n",
       " 'elegant': 536,\n",
       " 'extremely': 537,\n",
       " 'functional': 538,\n",
       " 'pleased': 539,\n",
       " 'vanity': 540,\n",
       " 'center': 541,\n",
       " 'handle': 542,\n",
       " 'slip': 543,\n",
       " 'works': 544,\n",
       " 'grip': 545,\n",
       " 'appearance': 546,\n",
       " 'dry': 547,\n",
       " 'place': 548,\n",
       " 'properly': 549,\n",
       " 'provides': 550,\n",
       " 'stable': 551,\n",
       " 'stylish': 552,\n",
       " 'described': 553,\n",
       " 'crowded': 554,\n",
       " 'doesnt': 555,\n",
       " 'sink': 556,\n",
       " 'tip': 557,\n",
       " 'weight': 558,\n",
       " 'box': 559,\n",
       " 'describe': 560,\n",
       " 'match': 561,\n",
       " 'perfectly': 562,\n",
       " 'sturdy': 563,\n",
       " 'amazing': 564,\n",
       " 'chrome': 565,\n",
       " 'escali': 566,\n",
       " 'ordered': 567,\n",
       " 'rockwell': 568,\n",
       " 'shipping': 569,\n",
       " 'white': 570,\n",
       " 'shin': 571,\n",
       " 'simple': 572,\n",
       " 'heavy': 573,\n",
       " 'long': 574,\n",
       " 'rock': 575,\n",
       " 'seems': 576,\n",
       " 'top': 577,\n",
       " 'clock': 578,\n",
       " 'cuckoo': 579,\n",
       " 'got': 580,\n",
       " 'run': 581,\n",
       " 'couple': 582,\n",
       " 'far': 583,\n",
       " 'choice': 584,\n",
       " 'common': 585,\n",
       " 'made': 586,\n",
       " 'organize': 587,\n",
       " 'space': 588,\n",
       " 'suit': 589,\n",
       " 'useful': 590,\n",
       " 'everything': 591,\n",
       " 'expensive': 592,\n",
       " 'polished': 593,\n",
       " 'super': 594,\n",
       " 'accommodate': 595,\n",
       " 'balance': 596,\n",
       " 'bracket': 597,\n",
       " 'instead': 598,\n",
       " 'shaver': 599,\n",
       " 'turn': 600,\n",
       " 'wider': 601,\n",
       " '34c': 602,\n",
       " 'arm': 603,\n",
       " 'bristle': 604,\n",
       " 'call': 605,\n",
       " 'certainly': 606,\n",
       " 'chain': 607,\n",
       " 'close': 608,\n",
       " 'comb': 609,\n",
       " 'fragile': 610,\n",
       " 'however': 611,\n",
       " 'ill': 612,\n",
       " 'join': 613,\n",
       " 'link': 614,\n",
       " 'merkur': 615,\n",
       " 'narrow': 616,\n",
       " 'near': 617,\n",
       " 'omega': 618,\n",
       " 'open': 619,\n",
       " 'original': 620,\n",
       " 'plastic': 621,\n",
       " 'position': 622,\n",
       " 'prefer': 623,\n",
       " 'pro': 624,\n",
       " 'proraso': 625,\n",
       " 'result': 626,\n",
       " 'save': 627,\n",
       " 'shape': 628,\n",
       " 'somewhat': 629,\n",
       " 'squeeze': 630,\n",
       " 'suspend': 631,\n",
       " 'tool': 632,\n",
       " 'weird': 633,\n",
       " 'wide': 634,\n",
       " 'golden': 635,\n",
       " 'loose': 636,\n",
       " 'screwdriver': 637,\n",
       " 'issue': 638,\n",
       " 'rust': 639,\n",
       " 'cleaner': 640,\n",
       " 'cluttered': 641,\n",
       " '2000': 642,\n",
       " 'feels': 643,\n",
       " 'idea': 644,\n",
       " 'might': 645,\n",
       " 'note': 646,\n",
       " 'semogue': 647,\n",
       " 'stuff': 648,\n",
       " 'away': 649,\n",
       " 'germ': 650,\n",
       " 'build': 651,\n",
       " 'cabinet': 652,\n",
       " 'edwin': 653,\n",
       " 'excellent': 654,\n",
       " 'glad': 655,\n",
       " 'jagger': 656,\n",
       " 'medicine': 657,\n",
       " 'nicely': 658,\n",
       " 'plissoft': 659,\n",
       " 'razorock': 660,\n",
       " 'stainless': 661,\n",
       " 'steel': 662,\n",
       " 'velvet': 663,\n",
       " 'wet': 664,\n",
       " 'ago': 665,\n",
       " 'bought': 666,\n",
       " 'tarnishing': 667,\n",
       " 'gillette': 668,\n",
       " 'present': 669,\n",
       " 'standard': 670,\n",
       " 'boar': 671,\n",
       " 'additional': 672,\n",
       " 'attachment': 673,\n",
       " 'four': 674,\n",
       " 'ideal': 675,\n",
       " 'mfg': 676,\n",
       " 'piece': 677,\n",
       " 'bath': 678,\n",
       " 'corner': 679,\n",
       " 'vikings': 680,\n",
       " 'barton': 681,\n",
       " 'disappoint': 682,\n",
       " 'reed': 683,\n",
       " 'slightly': 684,\n",
       " 'wedding': 685,\n",
       " 'fast': 686,\n",
       " 'large': 687,\n",
       " 'may': 688,\n",
       " 'tippy': 689,\n",
       " 'another': 690,\n",
       " 'decide': 691,\n",
       " 'first': 692,\n",
       " 'rotate': 693,\n",
       " 'unobtrusive': 694,\n",
       " 'badger': 695,\n",
       " 'safety': 696,\n",
       " 'distort': 697,\n",
       " 'ring': 698,\n",
       " 'star': 699,\n",
       " 'without': 700,\n",
       " 'meet': 701,\n",
       " 'regret': 702,\n",
       " 'razer': 703,\n",
       " 'came': 704,\n",
       " 'ready': 705,\n",
       " 'satisfy': 706,\n",
       " '200': 707,\n",
       " 'engraving': 708,\n",
       " 'muhle': 709,\n",
       " 'r89': 710,\n",
       " 'sell': 711,\n",
       " 'shaving': 712,\n",
       " 'completely': 713,\n",
       " 'fashion': 714,\n",
       " '90mm': 715,\n",
       " 'arrived': 716,\n",
       " 'fits': 717,\n",
       " 'simpson': 718,\n",
       " 'reasonable': 719,\n",
       " 'neatly': 720,\n",
       " 'pack': 721,\n",
       " 'foundation': 722,\n",
       " 'amazon': 723,\n",
       " 'cartridge': 724,\n",
       " 'depend': 725,\n",
       " 'fall': 726,\n",
       " 'mach': 727,\n",
       " 're': 728,\n",
       " 'search': 729,\n",
       " 'shaped': 730,\n",
       " 'stay': 731,\n",
       " 'try': 732,\n",
       " 'blade': 733,\n",
       " 'fantastic': 734,\n",
       " 'odd': 735,\n",
       " 'prong': 736,\n",
       " 'regular': 737,\n",
       " 'taper': 738,\n",
       " 'unit': 739,\n",
       " 'amount': 740,\n",
       " 'height': 741,\n",
       " 'rite': 742,\n",
       " 'simpke': 743,\n",
       " 'attractive': 744,\n",
       " 'knot': 745,\n",
       " 'synthetic': 746,\n",
       " 'able': 747,\n",
       " 'due': 748,\n",
       " 'durable': 749,\n",
       " 'take': 750,\n",
       " 'weighty': 751,\n",
       " 'custom': 752,\n",
       " 'fork': 753,\n",
       " 'please': 754,\n",
       " 'snug': 755,\n",
       " 'allow': 756,\n",
       " 'drying': 757,\n",
       " 'necessarily': 758,\n",
       " 'optimal': 759,\n",
       " 'serve': 760,\n",
       " 'aside': 761,\n",
       " 'cradle': 762,\n",
       " 'specific': 763,\n",
       " 'switch': 764,\n",
       " 'travelling': 765,\n",
       " 'expect': 766,\n",
       " 'access': 767,\n",
       " 'kit': 768,\n",
       " 'maintain': 769,\n",
       " 'month': 770,\n",
       " 'bother': 771,\n",
       " 'cheap': 772,\n",
       " 'lean': 773,\n",
       " 'seem': 774,\n",
       " 'sort': 775,\n",
       " 'spot': 776,\n",
       " 'universal': 777,\n",
       " 'water': 778,\n",
       " 'worry': 779,\n",
       " 'harrys': 780,\n",
       " 'return': 781,\n",
       " 'job': 782,\n",
       " 'package': 783,\n",
       " 'received': 784,\n",
       " 'neat': 785,\n",
       " 'five': 786,\n",
       " 'gilette': 787,\n",
       " 'people': 788,\n",
       " 'short': 789,\n",
       " 'slot': 790,\n",
       " 'advertised': 791,\n",
       " 'clean': 792,\n",
       " 'diameter': 793,\n",
       " 'hair': 794,\n",
       " 'kind': 795,\n",
       " 'maybe': 796,\n",
       " 'measure': 797,\n",
       " 'opening': 798,\n",
       " 'opinion': 799,\n",
       " 'aesthetically': 800,\n",
       " 'customer': 801,\n",
       " 'pleasing': 802,\n",
       " 'satisfied': 803,\n",
       " 'tie': 804,\n",
       " 'mercur': 805,\n",
       " 'room': 806,\n",
       " 'unnecessary': 807,\n",
       " 'brand': 808,\n",
       " 'different': 809,\n",
       " 'research': 810,\n",
       " 'obviously': 811,\n",
       " 'wobble': 812,\n",
       " 'discard': 813,\n",
       " 'error': 814,\n",
       " 'replacement': 815,\n",
       " 'stock': 816,\n",
       " 'wanted': 817,\n",
       " 'countertop': 818,\n",
       " 'neater': 819,\n",
       " 'move': 820,\n",
       " 'bettter': 821,\n",
       " 'similar': 822,\n",
       " 'delivery': 823,\n",
       " 'informed': 824,\n",
       " 'notify': 825,\n",
       " 'worthy': 826,\n",
       " '10048': 827,\n",
       " 'aka': 828,\n",
       " 'desirable': 829,\n",
       " 'e': 830,\n",
       " 'i': 831,\n",
       " 'rest': 832,\n",
       " 'store': 833,\n",
       " 'amps': 834,\n",
       " 'factor': 835,\n",
       " 'fancy': 836,\n",
       " 'admire': 837,\n",
       " 'compliment': 838,\n",
       " 'several': 839,\n",
       " '30mm': 840,\n",
       " 'assemble': 841,\n",
       " 'pre': 842,\n",
       " 'masculine': 843,\n",
       " 'dad': 844,\n",
       " 'new': 845,\n",
       " 'setup': 846,\n",
       " 'aware': 847,\n",
       " 'dhaving': 848,\n",
       " 'instant': 849,\n",
       " 'week': 850,\n",
       " 'help': 851,\n",
       " 'break': 852,\n",
       " 'check': 853,\n",
       " 'fault': 854,\n",
       " 'jaw': 855,\n",
       " 'shving': 856,\n",
       " 'tried': 857,\n",
       " 'tall': 858,\n",
       " 'bright': 859,\n",
       " 'deligted': 860,\n",
       " 'premium': 861,\n",
       " 'reservation': 862,\n",
       " 'stability': 863,\n",
       " 'undamaged': 864,\n",
       " 'weighted': 865,\n",
       " 'bulky': 866,\n",
       " 'bush': 867,\n",
       " 'cons': 868,\n",
       " 'convenient': 869,\n",
       " 'helps': 870,\n",
       " 'pros': 871,\n",
       " 'trip': 872,\n",
       " 'usually': 873,\n",
       " 'beat': 874,\n",
       " 'knurling': 875,\n",
       " 'main': 876,\n",
       " 'rod': 877,\n",
       " 'bowl': 878,\n",
       " 'complete': 879,\n",
       " 'solidly': 880,\n",
       " 'totally': 881,\n",
       " 'slick': 882,\n",
       " 'decent': 883,\n",
       " 'force': 884,\n",
       " 'onto': 885,\n",
       " 'tongs': 886,\n",
       " 'air': 887,\n",
       " 'chieftain': 888,\n",
       " 'drawer': 889,\n",
       " 'footprint': 890,\n",
       " 'gross': 891,\n",
       " 'minimalist': 892,\n",
       " 'rather': 893,\n",
       " 'stick': 894,\n",
       " 'tendency': 895,\n",
       " 'viking': 896,\n",
       " 'bic': 897,\n",
       " 'disposable': 898,\n",
       " 'hydro': 899,\n",
       " 'perform': 900,\n",
       " 'shick': 901,\n",
       " 'attentive': 902,\n",
       " 'avoid': 903,\n",
       " 'exposure': 904,\n",
       " 'initial': 905,\n",
       " 'service': 906,\n",
       " 'shower': 907,\n",
       " 'term': 908,\n",
       " 'edge': 909,\n",
       " 'shelf': 910,\n",
       " 'early': 911,\n",
       " 'fear': 912,\n",
       " 'foot': 913,\n",
       " 'hard': 914,\n",
       " 'knock': 915,\n",
       " 'lesson': 916,\n",
       " 'mistake': 917,\n",
       " 'plant': 918,\n",
       " 'rubber': 919,\n",
       " 'rusting': 920,\n",
       " 'actually': 921,\n",
       " 'heft': 922,\n",
       " 'parker': 923,\n",
       " 'contemporary': 924,\n",
       " 'crafted': 925,\n",
       " 'sleek': 926,\n",
       " 'on': 927,\n",
       " 'bar': 928,\n",
       " 'disaster': 929,\n",
       " 'ever': 930,\n",
       " 'exceed': 931,\n",
       " 'expectation': 932,\n",
       " 'flop': 933,\n",
       " 'gripe': 934,\n",
       " 'half': 935,\n",
       " 'inch': 936,\n",
       " 'kidding': 937,\n",
       " 'least': 938,\n",
       " 'minor': 939,\n",
       " 'natural': 940,\n",
       " 'notable': 941,\n",
       " 'particularly': 942,\n",
       " 'pound': 943,\n",
       " 'rolls': 944,\n",
       " 'royce': 945,\n",
       " 'slant': 946,\n",
       " 'straight': 947,\n",
       " '16': 948,\n",
       " '3': 949,\n",
       " 'acorn': 950,\n",
       " 'china': 951,\n",
       " 'cost': 952,\n",
       " 'knob': 953,\n",
       " 'knurled': 954,\n",
       " 'load': 955,\n",
       " 'notch': 956,\n",
       " 'pad': 957,\n",
       " 'prevents': 958,\n",
       " 'ratio': 959,\n",
       " 'scratch': 960,\n",
       " 'superb': 961,\n",
       " 'thick': 962,\n",
       " 'unbelievable': 963,\n",
       " 'variant': 964,\n",
       " 'cheesey': 965,\n",
       " 'complaint': 966,\n",
       " 'nicer': 967,\n",
       " 'previously': 968,\n",
       " 'head': 969,\n",
       " 'gentleman': 970,\n",
       " 'jon': 971,\n",
       " 'matches': 972,\n",
       " 'assortment': 973,\n",
       " 'single': 974,\n",
       " 'deliver': 975,\n",
       " 'email': 976,\n",
       " 'sent': 977,\n",
       " 'wrong': 978,\n",
       " 'clutter': 979,\n",
       " 'mean': 980,\n",
       " '': 981,\n",
       " 'poor': 982,\n",
       " 'shinny': 983,\n",
       " 'soo': 984,\n",
       " 'strudy': 985,\n",
       " 'almost': 986,\n",
       " 'floor': 987,\n",
       " 'paper': 988,\n",
       " 'receive': 989,\n",
       " 'suppose': 990,\n",
       " 'butt': 991,\n",
       " 'crush': 992,\n",
       " 'fiber': 993,\n",
       " 'humid': 994,\n",
       " 'model': 995,\n",
       " 'wear': 996,\n",
       " 'cabin': 997,\n",
       " 'everyday': 998,\n",
       " 'modern': 999,\n",
       " ...}"
      ]
     },
     "execution_count": 205,
     "metadata": {},
     "output_type": "execute_result"
    }
   ],
   "source": [
    "vocabulary.token2id"
   ]
  },
  {
   "cell_type": "markdown",
   "id": "aerial-bidder",
   "metadata": {},
   "source": [
    "### Bag of Words (BOW)"
   ]
  },
  {
   "cell_type": "code",
   "execution_count": 206,
   "id": "established-tattoo",
   "metadata": {},
   "outputs": [],
   "source": [
    "bow = [vocabulary.doc2bow(doc) for doc in tokenized]"
   ]
  },
  {
   "cell_type": "code",
   "execution_count": 207,
   "id": "perceived-connection",
   "metadata": {},
   "outputs": [
    {
     "name": "stdout",
     "output_type": "stream",
     "text": [
      "Word: color, Freq: 2\n",
      "Word: number, Freq: 1\n",
      "Word: tell, Freq: 1\n",
      "Word: product, Freq: 1\n",
      "Word: small, Freq: 1\n",
      "Word: seller, Freq: 1\n",
      "Word: purchase, Freq: 1\n",
      "Word: quality, Freq: 1\n",
      "Word: appearance, Freq: 1\n",
      "Word: long, Freq: 2\n",
      "Word: open, Freq: 1\n",
      "Word: foundation, Freq: 1\n",
      "Word: stay, Freq: 1\n",
      "Word: try, Freq: 1\n",
      "Word: package, Freq: 1\n",
      "Word: opening, Freq: 1\n",
      "Word: different, Freq: 1\n",
      "Word: new, Freq: 1\n",
      "Word: poor, Freq: 1\n",
      "Word: suppose, Freq: 1\n",
      "Word: real, Freq: 4\n",
      "Word: difference, Freq: 1\n",
      "Word: lid, Freq: 3\n",
      "Word: length, Freq: 1\n",
      "Word: gold, Freq: 1\n",
      "Word: liquid, Freq: 1\n",
      "Word: upon, Freq: 1\n",
      "Word: shade, Freq: 1\n",
      "Word: pour, Freq: 1\n",
      "Word: tube, Freq: 4\n",
      "Word: fake, Freq: 4\n",
      "Word: fleck, Freq: 1\n",
      "Word: 221, Freq: 1\n",
      "Word: dermacol, Freq: 2\n",
      "Word: circumferance, Freq: 1\n"
     ]
    }
   ],
   "source": [
    "for idx, freq in bow[256547]:\n",
    "    print(f\"Word: {vocabulary.get(idx)}, Freq: {freq}\")"
   ]
  },
  {
   "cell_type": "markdown",
   "id": "finished-darwin",
   "metadata": {},
   "source": [
    "### TF-IDF"
   ]
  },
  {
   "cell_type": "code",
   "execution_count": 86,
   "id": "responsible-bankruptcy",
   "metadata": {},
   "outputs": [
    {
     "name": "stdout",
     "output_type": "stream",
     "text": [
      "Word: , Weight: 0.004\n",
      "Word: s, Weight: 0.037\n",
      "Word: color, Weight: 0.105\n",
      "Word: number, Weight: 0.107\n",
      "Word: tell, Weight: 0.077\n",
      "Word: product, Weight: 0.028\n",
      "Word: small, Weight: 0.059\n",
      "Word: seller, Weight: 0.088\n",
      "Word: purchase, Weight: 0.056\n",
      "Word: quality, Weight: 0.059\n",
      "Word: appearance, Weight: 0.113\n",
      "Word: long, Weight: 0.104\n",
      "Word: open, Weight: 0.082\n",
      "Word: foundation, Weight: 0.098\n",
      "Word: stay, Weight: 0.071\n",
      "Word: try, Weight: 0.048\n",
      "Word: package, Weight: 0.081\n",
      "Word: opening, Weight: 0.130\n",
      "Word: different, Weight: 0.069\n",
      "Word: new, Weight: 0.068\n",
      "Word: poor, Weight: 0.105\n",
      "Word: suppose, Weight: 0.091\n",
      "Word: real, Weight: 0.343\n",
      "Word: difference, Weight: 0.075\n",
      "Word: lid, Weight: 0.314\n",
      "Word: length, Weight: 0.096\n",
      "Word: gold, Weight: 0.111\n",
      "Word: liquid, Weight: 0.097\n",
      "Word: upon, Weight: 0.113\n",
      "Word: shade, Weight: 0.099\n",
      "Word: pour, Weight: 0.126\n",
      "Word: tube, Weight: 0.383\n",
      "Word: fake, Weight: 0.438\n",
      "Word: fleck, Weight: 0.172\n",
      "Word: dermacol, Weight: 0.364\n",
      "Word: circumferance, Weight: 0.245\n"
     ]
    }
   ],
   "source": [
    "tfidf = TfidfModel(bow)\n",
    "\n",
    "for idx, weight in tfidf[bow[256547]]:\n",
    "    print(f\"Word: {vocabulary.get(idx)}, Weight: {weight:.3f}\")"
   ]
  },
  {
   "cell_type": "code",
   "execution_count": 87,
   "id": "demonstrated-struggle",
   "metadata": {},
   "outputs": [
    {
     "name": "stdout",
     "output_type": "stream",
     "text": [
      "CPU times: user 44.2 s, sys: 262 ms, total: 44.5 s\n",
      "Wall time: 17.9 s\n"
     ]
    }
   ],
   "source": [
    "%%time\n",
    "\n",
    "import numpy as np\n",
    "\n",
    "from gensim.models import word2vec\n",
    "\n",
    "np.set_printoptions(suppress=True)\n",
    "\n",
    "\n",
    "word_vec= word2vec.Word2Vec(tokenized)"
   ]
  },
  {
   "cell_type": "code",
   "execution_count": 88,
   "id": "integrated-parameter",
   "metadata": {},
   "outputs": [],
   "source": [
    "word_vec_unpack = [(word, idx.index) for word, idx in \\\n",
    "                   word_vec.wv.vocab.items()]"
   ]
  },
  {
   "cell_type": "code",
   "execution_count": 89,
   "id": "magnetic-receipt",
   "metadata": {},
   "outputs": [],
   "source": [
    "tokens, indexes = zip(*word_vec_unpack)"
   ]
  },
  {
   "cell_type": "code",
   "execution_count": 98,
   "id": "binding-kuwait",
   "metadata": {},
   "outputs": [
    {
     "name": "stderr",
     "output_type": "stream",
     "text": [
      "<ipython-input-98-99e0f0396e20>:1: DeprecationWarning: Call to deprecated `syn0` (Attribute will be removed in 4.0.0, use self.vectors instead).\n",
      "  word_vec_df = pd.DataFrame(word_vec.wv.syn0[indexes, :], index=tokens)\n"
     ]
    },
    {
     "data": {
      "text/html": [
       "<div>\n",
       "<style scoped>\n",
       "    .dataframe tbody tr th:only-of-type {\n",
       "        vertical-align: middle;\n",
       "    }\n",
       "\n",
       "    .dataframe tbody tr th {\n",
       "        vertical-align: top;\n",
       "    }\n",
       "\n",
       "    .dataframe thead th {\n",
       "        text-align: right;\n",
       "    }\n",
       "</style>\n",
       "<table border=\"1\" class=\"dataframe\">\n",
       "  <thead>\n",
       "    <tr style=\"text-align: right;\">\n",
       "      <th></th>\n",
       "      <th>0</th>\n",
       "      <th>1</th>\n",
       "      <th>2</th>\n",
       "      <th>3</th>\n",
       "      <th>4</th>\n",
       "      <th>5</th>\n",
       "      <th>6</th>\n",
       "      <th>7</th>\n",
       "      <th>8</th>\n",
       "      <th>9</th>\n",
       "      <th>...</th>\n",
       "      <th>90</th>\n",
       "      <th>91</th>\n",
       "      <th>92</th>\n",
       "      <th>93</th>\n",
       "      <th>94</th>\n",
       "      <th>95</th>\n",
       "      <th>96</th>\n",
       "      <th>97</th>\n",
       "      <th>98</th>\n",
       "      <th>99</th>\n",
       "    </tr>\n",
       "  </thead>\n",
       "  <tbody>\n",
       "    <tr>\n",
       "      <th>great</th>\n",
       "      <td>-1.201949</td>\n",
       "      <td>0.144700</td>\n",
       "      <td>0.574869</td>\n",
       "      <td>2.752909</td>\n",
       "      <td>-0.388276</td>\n",
       "      <td>-1.574940</td>\n",
       "      <td>0.477391</td>\n",
       "      <td>0.049548</td>\n",
       "      <td>-1.164826</td>\n",
       "      <td>-0.106699</td>\n",
       "      <td>...</td>\n",
       "      <td>1.994949</td>\n",
       "      <td>2.316634</td>\n",
       "      <td>1.655789</td>\n",
       "      <td>1.260824</td>\n",
       "      <td>-0.539082</td>\n",
       "      <td>0.125721</td>\n",
       "      <td>2.736740</td>\n",
       "      <td>-0.253912</td>\n",
       "      <td>0.253270</td>\n",
       "      <td>2.070598</td>\n",
       "    </tr>\n",
       "    <tr>\n",
       "      <th>husband</th>\n",
       "      <td>0.044235</td>\n",
       "      <td>-0.624490</td>\n",
       "      <td>0.766864</td>\n",
       "      <td>-0.096014</td>\n",
       "      <td>-1.737497</td>\n",
       "      <td>-1.962552</td>\n",
       "      <td>1.309048</td>\n",
       "      <td>2.582413</td>\n",
       "      <td>-0.380935</td>\n",
       "      <td>0.499077</td>\n",
       "      <td>...</td>\n",
       "      <td>-0.424558</td>\n",
       "      <td>0.666695</td>\n",
       "      <td>0.228896</td>\n",
       "      <td>-0.990749</td>\n",
       "      <td>-2.567177</td>\n",
       "      <td>-0.297132</td>\n",
       "      <td>0.927786</td>\n",
       "      <td>-0.831079</td>\n",
       "      <td>0.003286</td>\n",
       "      <td>-0.183259</td>\n",
       "    </tr>\n",
       "    <tr>\n",
       "      <th>want</th>\n",
       "      <td>-1.975531</td>\n",
       "      <td>1.179926</td>\n",
       "      <td>-1.058031</td>\n",
       "      <td>0.623056</td>\n",
       "      <td>-0.554303</td>\n",
       "      <td>1.691741</td>\n",
       "      <td>-0.853700</td>\n",
       "      <td>0.850673</td>\n",
       "      <td>0.688437</td>\n",
       "      <td>-1.651572</td>\n",
       "      <td>...</td>\n",
       "      <td>-0.635158</td>\n",
       "      <td>0.537367</td>\n",
       "      <td>-0.549163</td>\n",
       "      <td>-1.610598</td>\n",
       "      <td>-1.002761</td>\n",
       "      <td>0.335772</td>\n",
       "      <td>1.147842</td>\n",
       "      <td>0.882778</td>\n",
       "      <td>0.275279</td>\n",
       "      <td>0.753868</td>\n",
       "    </tr>\n",
       "    <tr>\n",
       "      <th>read</th>\n",
       "      <td>-0.597246</td>\n",
       "      <td>-2.358415</td>\n",
       "      <td>0.198330</td>\n",
       "      <td>-0.574358</td>\n",
       "      <td>-0.256990</td>\n",
       "      <td>0.211905</td>\n",
       "      <td>0.574853</td>\n",
       "      <td>1.306706</td>\n",
       "      <td>-0.310360</td>\n",
       "      <td>-1.215431</td>\n",
       "      <td>...</td>\n",
       "      <td>0.877756</td>\n",
       "      <td>2.454601</td>\n",
       "      <td>-0.734411</td>\n",
       "      <td>-2.043415</td>\n",
       "      <td>2.083447</td>\n",
       "      <td>0.068183</td>\n",
       "      <td>1.553645</td>\n",
       "      <td>-2.957670</td>\n",
       "      <td>-2.572025</td>\n",
       "      <td>-0.265907</td>\n",
       "    </tr>\n",
       "    <tr>\n",
       "      <th>negro</th>\n",
       "      <td>0.112753</td>\n",
       "      <td>0.003688</td>\n",
       "      <td>-0.110379</td>\n",
       "      <td>0.157676</td>\n",
       "      <td>0.004753</td>\n",
       "      <td>0.150588</td>\n",
       "      <td>0.081015</td>\n",
       "      <td>0.107179</td>\n",
       "      <td>0.054396</td>\n",
       "      <td>0.117308</td>\n",
       "      <td>...</td>\n",
       "      <td>-0.184214</td>\n",
       "      <td>-0.046896</td>\n",
       "      <td>-0.078399</td>\n",
       "      <td>0.094858</td>\n",
       "      <td>-0.017367</td>\n",
       "      <td>-0.084848</td>\n",
       "      <td>-0.053275</td>\n",
       "      <td>-0.122904</td>\n",
       "      <td>-0.077714</td>\n",
       "      <td>-0.143235</td>\n",
       "    </tr>\n",
       "  </tbody>\n",
       "</table>\n",
       "<p>5 rows × 100 columns</p>\n",
       "</div>"
      ],
      "text/plain": [
       "               0         1         2         3         4         5         6   \\\n",
       "great   -1.201949  0.144700  0.574869  2.752909 -0.388276 -1.574940  0.477391   \n",
       "husband  0.044235 -0.624490  0.766864 -0.096014 -1.737497 -1.962552  1.309048   \n",
       "want    -1.975531  1.179926 -1.058031  0.623056 -0.554303  1.691741 -0.853700   \n",
       "read    -0.597246 -2.358415  0.198330 -0.574358 -0.256990  0.211905  0.574853   \n",
       "negro    0.112753  0.003688 -0.110379  0.157676  0.004753  0.150588  0.081015   \n",
       "\n",
       "               7         8         9   ...        90        91        92  \\\n",
       "great    0.049548 -1.164826 -0.106699  ...  1.994949  2.316634  1.655789   \n",
       "husband  2.582413 -0.380935  0.499077  ... -0.424558  0.666695  0.228896   \n",
       "want     0.850673  0.688437 -1.651572  ... -0.635158  0.537367 -0.549163   \n",
       "read     1.306706 -0.310360 -1.215431  ...  0.877756  2.454601 -0.734411   \n",
       "negro    0.107179  0.054396  0.117308  ... -0.184214 -0.046896 -0.078399   \n",
       "\n",
       "               93        94        95        96        97        98        99  \n",
       "great    1.260824 -0.539082  0.125721  2.736740 -0.253912  0.253270  2.070598  \n",
       "husband -0.990749 -2.567177 -0.297132  0.927786 -0.831079  0.003286 -0.183259  \n",
       "want    -1.610598 -1.002761  0.335772  1.147842  0.882778  0.275279  0.753868  \n",
       "read    -2.043415  2.083447  0.068183  1.553645 -2.957670 -2.572025 -0.265907  \n",
       "negro    0.094858 -0.017367 -0.084848 -0.053275 -0.122904 -0.077714 -0.143235  \n",
       "\n",
       "[5 rows x 100 columns]"
      ]
     },
     "execution_count": 98,
     "metadata": {},
     "output_type": "execute_result"
    }
   ],
   "source": [
    "word_vec_df = pd.DataFrame(word_vec.wv.syn0[indexes, :], index=tokens)\n",
    "\n",
    "word_vec_df.head()"
   ]
  },
  {
   "cell_type": "code",
   "execution_count": 91,
   "id": "stunning-journalist",
   "metadata": {},
   "outputs": [
    {
     "name": "stdout",
     "output_type": "stream",
     "text": [
      "CPU times: user 3min 48s, sys: 942 ms, total: 3min 49s\n",
      "Wall time: 3min 49s\n"
     ]
    }
   ],
   "source": [
    "%%time\n",
    "\n",
    "tokenized_array = np.array(tokenized, dtype='object')\n",
    "\n",
    "model_array = np.array([word_vec_df.reindex(doc).mean(axis=0) for doc in tokenized_array])"
   ]
  },
  {
   "cell_type": "code",
   "execution_count": 92,
   "id": "pregnant-algebra",
   "metadata": {},
   "outputs": [
    {
     "data": {
      "text/plain": [
       "array([[-1.2019494 ,  0.1447001 ,  0.57486904, ..., -0.2539117 ,\n",
       "         0.2532703 ,  2.0705981 ],\n",
       "       [-0.12247618, -0.27431986, -0.23594823, ..., -0.5968004 ,\n",
       "        -0.18670075,  0.28634655],\n",
       "       [-0.13464384, -1.2069293 , -0.5199021 , ..., -0.45948437,\n",
       "         0.06474627, -0.37650576],\n",
       "       ...,\n",
       "       [-1.4163423 ,  0.27495602,  0.72984433, ...,  0.06097759,\n",
       "        -0.04898139,  0.62465465],\n",
       "       [-1.660054  , -0.13815938, -0.02870248, ..., -0.30280676,\n",
       "        -0.43369445, -0.09177174],\n",
       "       [-0.72361135,  0.05297217, -0.57034373, ..., -0.4685812 ,\n",
       "        -0.11193252,  0.05097417]], dtype=float32)"
      ]
     },
     "execution_count": 92,
     "metadata": {},
     "output_type": "execute_result"
    }
   ],
   "source": [
    "model_array"
   ]
  },
  {
   "cell_type": "code",
   "execution_count": 99,
   "id": "alone-pastor",
   "metadata": {},
   "outputs": [
    {
     "data": {
      "text/html": [
       "<div>\n",
       "<style scoped>\n",
       "    .dataframe tbody tr th:only-of-type {\n",
       "        vertical-align: middle;\n",
       "    }\n",
       "\n",
       "    .dataframe tbody tr th {\n",
       "        vertical-align: top;\n",
       "    }\n",
       "\n",
       "    .dataframe thead th {\n",
       "        text-align: right;\n",
       "    }\n",
       "</style>\n",
       "<table border=\"1\" class=\"dataframe\">\n",
       "  <thead>\n",
       "    <tr style=\"text-align: right;\">\n",
       "      <th></th>\n",
       "      <th>0</th>\n",
       "      <th>1</th>\n",
       "      <th>2</th>\n",
       "      <th>3</th>\n",
       "      <th>4</th>\n",
       "      <th>5</th>\n",
       "      <th>6</th>\n",
       "      <th>7</th>\n",
       "      <th>8</th>\n",
       "      <th>9</th>\n",
       "      <th>...</th>\n",
       "      <th>91</th>\n",
       "      <th>92</th>\n",
       "      <th>93</th>\n",
       "      <th>94</th>\n",
       "      <th>95</th>\n",
       "      <th>96</th>\n",
       "      <th>97</th>\n",
       "      <th>98</th>\n",
       "      <th>99</th>\n",
       "      <th>label</th>\n",
       "    </tr>\n",
       "  </thead>\n",
       "  <tbody>\n",
       "    <tr>\n",
       "      <th>0</th>\n",
       "      <td>-1.201949</td>\n",
       "      <td>0.144700</td>\n",
       "      <td>0.574869</td>\n",
       "      <td>2.752909</td>\n",
       "      <td>-0.388276</td>\n",
       "      <td>-1.574940</td>\n",
       "      <td>0.477391</td>\n",
       "      <td>0.049548</td>\n",
       "      <td>-1.164826</td>\n",
       "      <td>-0.106699</td>\n",
       "      <td>...</td>\n",
       "      <td>2.316634</td>\n",
       "      <td>1.655789</td>\n",
       "      <td>1.260824</td>\n",
       "      <td>-0.539082</td>\n",
       "      <td>0.125721</td>\n",
       "      <td>2.736740</td>\n",
       "      <td>-0.253912</td>\n",
       "      <td>0.253270</td>\n",
       "      <td>2.070598</td>\n",
       "      <td>1.0</td>\n",
       "    </tr>\n",
       "    <tr>\n",
       "      <th>1</th>\n",
       "      <td>-0.122476</td>\n",
       "      <td>-0.274320</td>\n",
       "      <td>-0.235948</td>\n",
       "      <td>0.239716</td>\n",
       "      <td>-0.083765</td>\n",
       "      <td>-0.369554</td>\n",
       "      <td>0.212815</td>\n",
       "      <td>0.528531</td>\n",
       "      <td>0.055425</td>\n",
       "      <td>-0.435444</td>\n",
       "      <td>...</td>\n",
       "      <td>0.435009</td>\n",
       "      <td>-0.108200</td>\n",
       "      <td>-0.289259</td>\n",
       "      <td>-0.343994</td>\n",
       "      <td>0.146651</td>\n",
       "      <td>0.861258</td>\n",
       "      <td>-0.596800</td>\n",
       "      <td>-0.186701</td>\n",
       "      <td>0.286347</td>\n",
       "      <td>4.0</td>\n",
       "    </tr>\n",
       "    <tr>\n",
       "      <th>2</th>\n",
       "      <td>-0.134644</td>\n",
       "      <td>-1.206929</td>\n",
       "      <td>-0.519902</td>\n",
       "      <td>0.246288</td>\n",
       "      <td>0.966006</td>\n",
       "      <td>0.071862</td>\n",
       "      <td>-0.058469</td>\n",
       "      <td>0.253898</td>\n",
       "      <td>-0.057673</td>\n",
       "      <td>0.014242</td>\n",
       "      <td>...</td>\n",
       "      <td>-0.303036</td>\n",
       "      <td>0.419713</td>\n",
       "      <td>-0.115435</td>\n",
       "      <td>0.591335</td>\n",
       "      <td>-0.121853</td>\n",
       "      <td>0.034238</td>\n",
       "      <td>-0.459484</td>\n",
       "      <td>0.064746</td>\n",
       "      <td>-0.376506</td>\n",
       "      <td>4.0</td>\n",
       "    </tr>\n",
       "    <tr>\n",
       "      <th>3</th>\n",
       "      <td>-0.163815</td>\n",
       "      <td>-0.474026</td>\n",
       "      <td>-0.003632</td>\n",
       "      <td>0.119767</td>\n",
       "      <td>0.116645</td>\n",
       "      <td>-0.097260</td>\n",
       "      <td>-0.000558</td>\n",
       "      <td>-0.022949</td>\n",
       "      <td>-0.014875</td>\n",
       "      <td>-0.603142</td>\n",
       "      <td>...</td>\n",
       "      <td>0.135594</td>\n",
       "      <td>-0.182681</td>\n",
       "      <td>-0.557722</td>\n",
       "      <td>0.470839</td>\n",
       "      <td>0.515196</td>\n",
       "      <td>-0.020371</td>\n",
       "      <td>-0.859123</td>\n",
       "      <td>-0.234994</td>\n",
       "      <td>0.189479</td>\n",
       "      <td>5.0</td>\n",
       "    </tr>\n",
       "    <tr>\n",
       "      <th>4</th>\n",
       "      <td>-0.157024</td>\n",
       "      <td>-0.151582</td>\n",
       "      <td>-0.406453</td>\n",
       "      <td>-0.000831</td>\n",
       "      <td>-0.129803</td>\n",
       "      <td>-0.177306</td>\n",
       "      <td>-0.096088</td>\n",
       "      <td>0.430276</td>\n",
       "      <td>0.012211</td>\n",
       "      <td>-0.167220</td>\n",
       "      <td>...</td>\n",
       "      <td>0.243920</td>\n",
       "      <td>0.034709</td>\n",
       "      <td>-0.423191</td>\n",
       "      <td>-0.105042</td>\n",
       "      <td>0.078415</td>\n",
       "      <td>0.465685</td>\n",
       "      <td>-0.509353</td>\n",
       "      <td>-0.344450</td>\n",
       "      <td>-0.007182</td>\n",
       "      <td>5.0</td>\n",
       "    </tr>\n",
       "  </tbody>\n",
       "</table>\n",
       "<p>5 rows × 101 columns</p>\n",
       "</div>"
      ],
      "text/plain": [
       "          0         1         2         3         4         5         6  \\\n",
       "0 -1.201949  0.144700  0.574869  2.752909 -0.388276 -1.574940  0.477391   \n",
       "1 -0.122476 -0.274320 -0.235948  0.239716 -0.083765 -0.369554  0.212815   \n",
       "2 -0.134644 -1.206929 -0.519902  0.246288  0.966006  0.071862 -0.058469   \n",
       "3 -0.163815 -0.474026 -0.003632  0.119767  0.116645 -0.097260 -0.000558   \n",
       "4 -0.157024 -0.151582 -0.406453 -0.000831 -0.129803 -0.177306 -0.096088   \n",
       "\n",
       "          7         8         9  ...        91        92        93        94  \\\n",
       "0  0.049548 -1.164826 -0.106699  ...  2.316634  1.655789  1.260824 -0.539082   \n",
       "1  0.528531  0.055425 -0.435444  ...  0.435009 -0.108200 -0.289259 -0.343994   \n",
       "2  0.253898 -0.057673  0.014242  ... -0.303036  0.419713 -0.115435  0.591335   \n",
       "3 -0.022949 -0.014875 -0.603142  ...  0.135594 -0.182681 -0.557722  0.470839   \n",
       "4  0.430276  0.012211 -0.167220  ...  0.243920  0.034709 -0.423191 -0.105042   \n",
       "\n",
       "         95        96        97        98        99  label  \n",
       "0  0.125721  2.736740 -0.253912  0.253270  2.070598    1.0  \n",
       "1  0.146651  0.861258 -0.596800 -0.186701  0.286347    4.0  \n",
       "2 -0.121853  0.034238 -0.459484  0.064746 -0.376506    4.0  \n",
       "3  0.515196 -0.020371 -0.859123 -0.234994  0.189479    5.0  \n",
       "4  0.078415  0.465685 -0.509353 -0.344450 -0.007182    5.0  \n",
       "\n",
       "[5 rows x 101 columns]"
      ]
     },
     "execution_count": 99,
     "metadata": {},
     "output_type": "execute_result"
    }
   ],
   "source": [
    "model_df = pd.DataFrame(model_array)\n",
    "model_df[\"label\"] = df_lemmatized[\"overall\"]\n",
    "\n",
    "model_df.head()"
   ]
  },
  {
   "cell_type": "code",
   "execution_count": 103,
   "id": "fixed-tobago",
   "metadata": {},
   "outputs": [
    {
     "data": {
      "text/html": [
       "<div>\n",
       "<style scoped>\n",
       "    .dataframe tbody tr th:only-of-type {\n",
       "        vertical-align: middle;\n",
       "    }\n",
       "\n",
       "    .dataframe tbody tr th {\n",
       "        vertical-align: top;\n",
       "    }\n",
       "\n",
       "    .dataframe thead th {\n",
       "        text-align: right;\n",
       "    }\n",
       "</style>\n",
       "<table border=\"1\" class=\"dataframe\">\n",
       "  <thead>\n",
       "    <tr style=\"text-align: right;\">\n",
       "      <th></th>\n",
       "      <th>0</th>\n",
       "      <th>1</th>\n",
       "      <th>2</th>\n",
       "      <th>3</th>\n",
       "      <th>4</th>\n",
       "      <th>5</th>\n",
       "      <th>6</th>\n",
       "      <th>7</th>\n",
       "      <th>8</th>\n",
       "      <th>9</th>\n",
       "      <th>...</th>\n",
       "      <th>91</th>\n",
       "      <th>92</th>\n",
       "      <th>93</th>\n",
       "      <th>94</th>\n",
       "      <th>95</th>\n",
       "      <th>96</th>\n",
       "      <th>97</th>\n",
       "      <th>98</th>\n",
       "      <th>99</th>\n",
       "      <th>label</th>\n",
       "    </tr>\n",
       "  </thead>\n",
       "  <tbody>\n",
       "    <tr>\n",
       "      <th>0</th>\n",
       "      <td>-1.201949</td>\n",
       "      <td>0.144700</td>\n",
       "      <td>0.574869</td>\n",
       "      <td>2.752909</td>\n",
       "      <td>-0.388276</td>\n",
       "      <td>-1.574940</td>\n",
       "      <td>0.477391</td>\n",
       "      <td>0.049548</td>\n",
       "      <td>-1.164826</td>\n",
       "      <td>-0.106699</td>\n",
       "      <td>...</td>\n",
       "      <td>2.316634</td>\n",
       "      <td>1.655789</td>\n",
       "      <td>1.260824</td>\n",
       "      <td>-0.539082</td>\n",
       "      <td>0.125721</td>\n",
       "      <td>2.736740</td>\n",
       "      <td>-0.253912</td>\n",
       "      <td>0.253270</td>\n",
       "      <td>2.070598</td>\n",
       "      <td>1.0</td>\n",
       "    </tr>\n",
       "    <tr>\n",
       "      <th>1</th>\n",
       "      <td>-0.122476</td>\n",
       "      <td>-0.274320</td>\n",
       "      <td>-0.235948</td>\n",
       "      <td>0.239716</td>\n",
       "      <td>-0.083765</td>\n",
       "      <td>-0.369554</td>\n",
       "      <td>0.212815</td>\n",
       "      <td>0.528531</td>\n",
       "      <td>0.055425</td>\n",
       "      <td>-0.435444</td>\n",
       "      <td>...</td>\n",
       "      <td>0.435009</td>\n",
       "      <td>-0.108200</td>\n",
       "      <td>-0.289259</td>\n",
       "      <td>-0.343994</td>\n",
       "      <td>0.146651</td>\n",
       "      <td>0.861258</td>\n",
       "      <td>-0.596800</td>\n",
       "      <td>-0.186701</td>\n",
       "      <td>0.286347</td>\n",
       "      <td>4.0</td>\n",
       "    </tr>\n",
       "    <tr>\n",
       "      <th>2</th>\n",
       "      <td>-0.134644</td>\n",
       "      <td>-1.206929</td>\n",
       "      <td>-0.519902</td>\n",
       "      <td>0.246288</td>\n",
       "      <td>0.966006</td>\n",
       "      <td>0.071862</td>\n",
       "      <td>-0.058469</td>\n",
       "      <td>0.253898</td>\n",
       "      <td>-0.057673</td>\n",
       "      <td>0.014242</td>\n",
       "      <td>...</td>\n",
       "      <td>-0.303036</td>\n",
       "      <td>0.419713</td>\n",
       "      <td>-0.115435</td>\n",
       "      <td>0.591335</td>\n",
       "      <td>-0.121853</td>\n",
       "      <td>0.034238</td>\n",
       "      <td>-0.459484</td>\n",
       "      <td>0.064746</td>\n",
       "      <td>-0.376506</td>\n",
       "      <td>4.0</td>\n",
       "    </tr>\n",
       "    <tr>\n",
       "      <th>3</th>\n",
       "      <td>-0.163815</td>\n",
       "      <td>-0.474026</td>\n",
       "      <td>-0.003632</td>\n",
       "      <td>0.119767</td>\n",
       "      <td>0.116645</td>\n",
       "      <td>-0.097260</td>\n",
       "      <td>-0.000558</td>\n",
       "      <td>-0.022949</td>\n",
       "      <td>-0.014875</td>\n",
       "      <td>-0.603142</td>\n",
       "      <td>...</td>\n",
       "      <td>0.135594</td>\n",
       "      <td>-0.182681</td>\n",
       "      <td>-0.557722</td>\n",
       "      <td>0.470839</td>\n",
       "      <td>0.515196</td>\n",
       "      <td>-0.020371</td>\n",
       "      <td>-0.859123</td>\n",
       "      <td>-0.234994</td>\n",
       "      <td>0.189479</td>\n",
       "      <td>5.0</td>\n",
       "    </tr>\n",
       "    <tr>\n",
       "      <th>4</th>\n",
       "      <td>-0.157024</td>\n",
       "      <td>-0.151582</td>\n",
       "      <td>-0.406453</td>\n",
       "      <td>-0.000831</td>\n",
       "      <td>-0.129803</td>\n",
       "      <td>-0.177306</td>\n",
       "      <td>-0.096088</td>\n",
       "      <td>0.430276</td>\n",
       "      <td>0.012211</td>\n",
       "      <td>-0.167220</td>\n",
       "      <td>...</td>\n",
       "      <td>0.243920</td>\n",
       "      <td>0.034709</td>\n",
       "      <td>-0.423191</td>\n",
       "      <td>-0.105042</td>\n",
       "      <td>0.078415</td>\n",
       "      <td>0.465685</td>\n",
       "      <td>-0.509353</td>\n",
       "      <td>-0.344450</td>\n",
       "      <td>-0.007182</td>\n",
       "      <td>5.0</td>\n",
       "    </tr>\n",
       "    <tr>\n",
       "      <th>...</th>\n",
       "      <td>...</td>\n",
       "      <td>...</td>\n",
       "      <td>...</td>\n",
       "      <td>...</td>\n",
       "      <td>...</td>\n",
       "      <td>...</td>\n",
       "      <td>...</td>\n",
       "      <td>...</td>\n",
       "      <td>...</td>\n",
       "      <td>...</td>\n",
       "      <td>...</td>\n",
       "      <td>...</td>\n",
       "      <td>...</td>\n",
       "      <td>...</td>\n",
       "      <td>...</td>\n",
       "      <td>...</td>\n",
       "      <td>...</td>\n",
       "      <td>...</td>\n",
       "      <td>...</td>\n",
       "      <td>...</td>\n",
       "      <td>...</td>\n",
       "    </tr>\n",
       "    <tr>\n",
       "      <th>319639</th>\n",
       "      <td>-0.850631</td>\n",
       "      <td>0.488832</td>\n",
       "      <td>0.353555</td>\n",
       "      <td>-0.455352</td>\n",
       "      <td>0.184467</td>\n",
       "      <td>-0.161220</td>\n",
       "      <td>-0.997328</td>\n",
       "      <td>-0.835478</td>\n",
       "      <td>-0.969907</td>\n",
       "      <td>-0.592102</td>\n",
       "      <td>...</td>\n",
       "      <td>-0.290564</td>\n",
       "      <td>0.015754</td>\n",
       "      <td>-0.498125</td>\n",
       "      <td>0.408482</td>\n",
       "      <td>0.539643</td>\n",
       "      <td>0.274512</td>\n",
       "      <td>-0.048480</td>\n",
       "      <td>-0.168280</td>\n",
       "      <td>0.766513</td>\n",
       "      <td>1.0</td>\n",
       "    </tr>\n",
       "    <tr>\n",
       "      <th>319640</th>\n",
       "      <td>-0.664502</td>\n",
       "      <td>0.423804</td>\n",
       "      <td>0.202708</td>\n",
       "      <td>-0.477428</td>\n",
       "      <td>0.334480</td>\n",
       "      <td>-0.506375</td>\n",
       "      <td>-0.671812</td>\n",
       "      <td>-0.198242</td>\n",
       "      <td>-0.156401</td>\n",
       "      <td>-0.685886</td>\n",
       "      <td>...</td>\n",
       "      <td>0.049857</td>\n",
       "      <td>0.366893</td>\n",
       "      <td>-0.616942</td>\n",
       "      <td>0.002450</td>\n",
       "      <td>0.236297</td>\n",
       "      <td>0.580446</td>\n",
       "      <td>-0.136920</td>\n",
       "      <td>-0.322472</td>\n",
       "      <td>0.553784</td>\n",
       "      <td>5.0</td>\n",
       "    </tr>\n",
       "    <tr>\n",
       "      <th>319641</th>\n",
       "      <td>-1.416342</td>\n",
       "      <td>0.274956</td>\n",
       "      <td>0.729844</td>\n",
       "      <td>0.826062</td>\n",
       "      <td>0.608657</td>\n",
       "      <td>-0.790298</td>\n",
       "      <td>-0.626386</td>\n",
       "      <td>-0.139923</td>\n",
       "      <td>-0.056454</td>\n",
       "      <td>-0.818421</td>\n",
       "      <td>...</td>\n",
       "      <td>0.387351</td>\n",
       "      <td>0.423271</td>\n",
       "      <td>-0.512620</td>\n",
       "      <td>0.298065</td>\n",
       "      <td>0.294367</td>\n",
       "      <td>0.965149</td>\n",
       "      <td>0.060978</td>\n",
       "      <td>-0.048981</td>\n",
       "      <td>0.624655</td>\n",
       "      <td>5.0</td>\n",
       "    </tr>\n",
       "    <tr>\n",
       "      <th>319642</th>\n",
       "      <td>-1.660054</td>\n",
       "      <td>-0.138159</td>\n",
       "      <td>-0.028702</td>\n",
       "      <td>-0.148238</td>\n",
       "      <td>0.995625</td>\n",
       "      <td>-0.164171</td>\n",
       "      <td>-0.567897</td>\n",
       "      <td>-0.234625</td>\n",
       "      <td>0.055548</td>\n",
       "      <td>-1.027739</td>\n",
       "      <td>...</td>\n",
       "      <td>-0.323886</td>\n",
       "      <td>0.547564</td>\n",
       "      <td>-0.381671</td>\n",
       "      <td>0.742524</td>\n",
       "      <td>-0.410337</td>\n",
       "      <td>0.252027</td>\n",
       "      <td>-0.302807</td>\n",
       "      <td>-0.433694</td>\n",
       "      <td>-0.091772</td>\n",
       "      <td>2.0</td>\n",
       "    </tr>\n",
       "    <tr>\n",
       "      <th>319643</th>\n",
       "      <td>-0.723611</td>\n",
       "      <td>0.052972</td>\n",
       "      <td>-0.570344</td>\n",
       "      <td>-0.509114</td>\n",
       "      <td>0.039917</td>\n",
       "      <td>0.287188</td>\n",
       "      <td>-0.668756</td>\n",
       "      <td>-0.512408</td>\n",
       "      <td>-0.502723</td>\n",
       "      <td>-0.034375</td>\n",
       "      <td>...</td>\n",
       "      <td>-0.669260</td>\n",
       "      <td>0.180877</td>\n",
       "      <td>-0.701014</td>\n",
       "      <td>0.528677</td>\n",
       "      <td>0.140761</td>\n",
       "      <td>0.291574</td>\n",
       "      <td>-0.468581</td>\n",
       "      <td>-0.111933</td>\n",
       "      <td>0.050974</td>\n",
       "      <td>2.0</td>\n",
       "    </tr>\n",
       "  </tbody>\n",
       "</table>\n",
       "<p>319357 rows × 101 columns</p>\n",
       "</div>"
      ],
      "text/plain": [
       "               0         1         2         3         4         5         6  \\\n",
       "0      -1.201949  0.144700  0.574869  2.752909 -0.388276 -1.574940  0.477391   \n",
       "1      -0.122476 -0.274320 -0.235948  0.239716 -0.083765 -0.369554  0.212815   \n",
       "2      -0.134644 -1.206929 -0.519902  0.246288  0.966006  0.071862 -0.058469   \n",
       "3      -0.163815 -0.474026 -0.003632  0.119767  0.116645 -0.097260 -0.000558   \n",
       "4      -0.157024 -0.151582 -0.406453 -0.000831 -0.129803 -0.177306 -0.096088   \n",
       "...          ...       ...       ...       ...       ...       ...       ...   \n",
       "319639 -0.850631  0.488832  0.353555 -0.455352  0.184467 -0.161220 -0.997328   \n",
       "319640 -0.664502  0.423804  0.202708 -0.477428  0.334480 -0.506375 -0.671812   \n",
       "319641 -1.416342  0.274956  0.729844  0.826062  0.608657 -0.790298 -0.626386   \n",
       "319642 -1.660054 -0.138159 -0.028702 -0.148238  0.995625 -0.164171 -0.567897   \n",
       "319643 -0.723611  0.052972 -0.570344 -0.509114  0.039917  0.287188 -0.668756   \n",
       "\n",
       "               7         8         9  ...        91        92        93  \\\n",
       "0       0.049548 -1.164826 -0.106699  ...  2.316634  1.655789  1.260824   \n",
       "1       0.528531  0.055425 -0.435444  ...  0.435009 -0.108200 -0.289259   \n",
       "2       0.253898 -0.057673  0.014242  ... -0.303036  0.419713 -0.115435   \n",
       "3      -0.022949 -0.014875 -0.603142  ...  0.135594 -0.182681 -0.557722   \n",
       "4       0.430276  0.012211 -0.167220  ...  0.243920  0.034709 -0.423191   \n",
       "...          ...       ...       ...  ...       ...       ...       ...   \n",
       "319639 -0.835478 -0.969907 -0.592102  ... -0.290564  0.015754 -0.498125   \n",
       "319640 -0.198242 -0.156401 -0.685886  ...  0.049857  0.366893 -0.616942   \n",
       "319641 -0.139923 -0.056454 -0.818421  ...  0.387351  0.423271 -0.512620   \n",
       "319642 -0.234625  0.055548 -1.027739  ... -0.323886  0.547564 -0.381671   \n",
       "319643 -0.512408 -0.502723 -0.034375  ... -0.669260  0.180877 -0.701014   \n",
       "\n",
       "              94        95        96        97        98        99  label  \n",
       "0      -0.539082  0.125721  2.736740 -0.253912  0.253270  2.070598    1.0  \n",
       "1      -0.343994  0.146651  0.861258 -0.596800 -0.186701  0.286347    4.0  \n",
       "2       0.591335 -0.121853  0.034238 -0.459484  0.064746 -0.376506    4.0  \n",
       "3       0.470839  0.515196 -0.020371 -0.859123 -0.234994  0.189479    5.0  \n",
       "4      -0.105042  0.078415  0.465685 -0.509353 -0.344450 -0.007182    5.0  \n",
       "...          ...       ...       ...       ...       ...       ...    ...  \n",
       "319639  0.408482  0.539643  0.274512 -0.048480 -0.168280  0.766513    1.0  \n",
       "319640  0.002450  0.236297  0.580446 -0.136920 -0.322472  0.553784    5.0  \n",
       "319641  0.298065  0.294367  0.965149  0.060978 -0.048981  0.624655    5.0  \n",
       "319642  0.742524 -0.410337  0.252027 -0.302807 -0.433694 -0.091772    2.0  \n",
       "319643  0.528677  0.140761  0.291574 -0.468581 -0.111933  0.050974    2.0  \n",
       "\n",
       "[319357 rows x 101 columns]"
      ]
     },
     "execution_count": 103,
     "metadata": {},
     "output_type": "execute_result"
    }
   ],
   "source": [
    "model_df = model_df.dropna(axis=0)\n",
    "model_df"
   ]
  },
  {
   "cell_type": "markdown",
   "id": "composite-blade",
   "metadata": {},
   "source": [
    "### Modelling"
   ]
  },
  {
   "cell_type": "code",
   "execution_count": 104,
   "id": "distributed-lottery",
   "metadata": {},
   "outputs": [],
   "source": [
    "from sklearn.model_selection import train_test_split\n",
    "\n",
    "X = model_df.iloc[:, :-1]\n",
    "y = model_df.iloc[:, -1]\n",
    "\n",
    "X_train, X_test, y_train, y_test = train_test_split(X, y, test_size=0.2, random_state=42)"
   ]
  },
  {
   "cell_type": "code",
   "execution_count": 105,
   "id": "opened-portuguese",
   "metadata": {},
   "outputs": [],
   "source": [
    "def classification_metrics(y_test, predict):\n",
    "    print(\"Confusion Matrix:\\n\")\n",
    "    print(confusion_matrix(y_test, predict))\n",
    "    print(\"\\nAccuracy: \", accuracy_score(y_test, predict))\n",
    "    print(\"\\nClassification report:\\n\")\n",
    "    print(classification_report(y_test, predict))"
   ]
  },
  {
   "cell_type": "markdown",
   "id": "contrary-green",
   "metadata": {},
   "source": [
    "### Random Forest"
   ]
  },
  {
   "cell_type": "code",
   "execution_count": 106,
   "id": "furnished-asthma",
   "metadata": {},
   "outputs": [
    {
     "name": "stdout",
     "output_type": "stream",
     "text": [
      "CPU times: user 4min 22s, sys: 796 ms, total: 4min 23s\n",
      "Wall time: 4min 23s\n"
     ]
    },
    {
     "data": {
      "text/plain": [
       "RandomForestClassifier(class_weight='balanced', random_state=42)"
      ]
     },
     "execution_count": 106,
     "metadata": {},
     "output_type": "execute_result"
    }
   ],
   "source": [
    "%%time\n",
    "from sklearn.ensemble import RandomForestClassifier\n",
    "\n",
    "forest = RandomForestClassifier(n_estimators=100, class_weight='balanced', random_state=42)\n",
    "forest.fit(X_train, y_train)"
   ]
  },
  {
   "cell_type": "code",
   "execution_count": 107,
   "id": "dedicated-poster",
   "metadata": {},
   "outputs": [
    {
     "name": "stdout",
     "output_type": "stream",
     "text": [
      "Training Set Accuracy: 98.833%\n",
      "Training Set F1 Score: 0.988\n",
      "Confusion Matrix:\n",
      "\n",
      "[[ 29062    157     78     37     43]\n",
      " [   133  15021     38     17     13]\n",
      " [    84     65  21456     49     52]\n",
      " [   103     41    111  36145    347]\n",
      " [   384    147    222    861 150819]]\n",
      "\n",
      "Accuracy:  0.9883280818834765\n",
      "\n",
      "Classification report:\n",
      "\n",
      "              precision    recall  f1-score   support\n",
      "\n",
      "         1.0       0.98      0.99      0.98     29377\n",
      "         2.0       0.97      0.99      0.98     15222\n",
      "         3.0       0.98      0.99      0.98     21706\n",
      "         4.0       0.97      0.98      0.98     36747\n",
      "         5.0       1.00      0.99      0.99    152433\n",
      "\n",
      "    accuracy                           0.99    255485\n",
      "   macro avg       0.98      0.99      0.98    255485\n",
      "weighted avg       0.99      0.99      0.99    255485\n",
      "\n"
     ]
    }
   ],
   "source": [
    "from sklearn import metrics\n",
    "y_pred = forest.predict(X_train)\n",
    "\n",
    "accuracy = metrics.accuracy_score(y_train, y_pred)\n",
    "f1_score = metrics.f1_score(y_train, y_pred, average=\"micro\")\n",
    "\n",
    "print(f\"Training Set Accuracy: {accuracy*100:.3f}%\")\n",
    "print(f\"Training Set F1 Score: {f1_score:.3f}\")\n",
    "\n",
    "classification_metrics(y_train, y_pred)"
   ]
  },
  {
   "cell_type": "code",
   "execution_count": 110,
   "id": "seventh-peeing",
   "metadata": {},
   "outputs": [
    {
     "name": "stdout",
     "output_type": "stream",
     "text": [
      "Confusion Matrix:\n",
      "\n",
      "[[ 3237    89    93    43  3854]\n",
      " [  853    60   104    73  2688]\n",
      " [  649    66   230   172  4274]\n",
      " [  305    30   140   322  8476]\n",
      " [  474    54   123   406 37057]]\n",
      "\n",
      "Accuracy:  0.640437124248497\n",
      "\n",
      "Classification report:\n",
      "\n",
      "              precision    recall  f1-score   support\n",
      "\n",
      "         1.0       0.59      0.44      0.50      7316\n",
      "         2.0       0.20      0.02      0.03      3778\n",
      "         3.0       0.33      0.04      0.08      5391\n",
      "         4.0       0.32      0.03      0.06      9273\n",
      "         5.0       0.66      0.97      0.78     38114\n",
      "\n",
      "    accuracy                           0.64     63872\n",
      "   macro avg       0.42      0.30      0.29     63872\n",
      "weighted avg       0.55      0.64      0.54     63872\n",
      "\n"
     ]
    }
   ],
   "source": [
    "predict = forest.predict(X_test)\n",
    "classification_metrics(y_test, predict)"
   ]
  },
  {
   "cell_type": "code",
   "execution_count": 111,
   "id": "public-package",
   "metadata": {},
   "outputs": [
    {
     "name": "stdout",
     "output_type": "stream",
     "text": [
      "Test Set Accuracy: 64.044%\n",
      "Test Set F1 Score: 0.640\n"
     ]
    }
   ],
   "source": [
    "accuracy = metrics.accuracy_score(y_test, y_pred_test)\n",
    "f1_score = metrics.f1_score(y_test, y_pred_test, average=\"micro\")\n",
    "\n",
    "print(f\"Test Set Accuracy: {accuracy*100:.3f}%\")\n",
    "print(f\"Test Set F1 Score: {f1_score:.3f}\")"
   ]
  },
  {
   "cell_type": "markdown",
   "id": "rapid-mother",
   "metadata": {},
   "source": [
    "### ExtraTreesClassifier"
   ]
  },
  {
   "cell_type": "code",
   "execution_count": 112,
   "id": "ecological-blair",
   "metadata": {},
   "outputs": [
    {
     "data": {
      "text/plain": [
       "ExtraTreesClassifier(n_estimators=50, random_state=0)"
      ]
     },
     "execution_count": 112,
     "metadata": {},
     "output_type": "execute_result"
    }
   ],
   "source": [
    "from sklearn.metrics import confusion_matrix, accuracy_score, classification_report\n",
    "\n",
    "from sklearn.ensemble import ExtraTreesClassifier\n",
    "etC = ExtraTreesClassifier(random_state=0, n_estimators=50)\n",
    "\n",
    "etC.fit(X_train, y_train)"
   ]
  },
  {
   "cell_type": "code",
   "execution_count": 114,
   "id": "intellectual-electronics",
   "metadata": {},
   "outputs": [
    {
     "name": "stdout",
     "output_type": "stream",
     "text": [
      "Training Set Accuracy: 99.078%\n",
      "Training Set F1 Score: 0.991\n",
      "Confusion Matrix:\n",
      "\n",
      "[[ 29140     16     25      5    191]\n",
      " [   234  14880     27      7     74]\n",
      " [   121     38  21370     15    162]\n",
      " [    70     15     89  35901    672]\n",
      " [   140     29     93    333 151838]]\n",
      "\n",
      "Accuracy:  0.9907783235806408\n",
      "\n",
      "Classification report:\n",
      "\n",
      "              precision    recall  f1-score   support\n",
      "\n",
      "         1.0       0.98      0.99      0.99     29377\n",
      "         2.0       0.99      0.98      0.99     15222\n",
      "         3.0       0.99      0.98      0.99     21706\n",
      "         4.0       0.99      0.98      0.98     36747\n",
      "         5.0       0.99      1.00      0.99    152433\n",
      "\n",
      "    accuracy                           0.99    255485\n",
      "   macro avg       0.99      0.99      0.99    255485\n",
      "weighted avg       0.99      0.99      0.99    255485\n",
      "\n"
     ]
    }
   ],
   "source": [
    "y_pred = etC.predict(X_train)\n",
    "\n",
    "accuracy = metrics.accuracy_score(y_train, y_pred)\n",
    "f1_score = metrics.f1_score(y_train, y_pred, average=\"micro\")\n",
    "\n",
    "print(f\"Training Set Accuracy: {accuracy*100:.3f}%\")\n",
    "print(f\"Training Set F1 Score: {f1_score:.3f}\")\n",
    "\n",
    "classification_metrics(y_train, y_pred)"
   ]
  },
  {
   "cell_type": "code",
   "execution_count": 116,
   "id": "approximate-zimbabwe",
   "metadata": {},
   "outputs": [
    {
     "name": "stdout",
     "output_type": "stream",
     "text": [
      "Confusion Matrix:\n",
      "\n",
      "[[ 3249   107   148   125  3687]\n",
      " [  922    66   124   159  2507]\n",
      " [  693    86   279   381  3952]\n",
      " [  351    25   187   516  8194]\n",
      " [  437    34   116   454 37073]]\n",
      "\n",
      "Accuracy:  0.6447739228456913\n",
      "\n",
      "Classification report:\n",
      "\n",
      "              precision    recall  f1-score   support\n",
      "\n",
      "         1.0       0.57      0.44      0.50      7316\n",
      "         2.0       0.21      0.02      0.03      3778\n",
      "         3.0       0.33      0.05      0.09      5391\n",
      "         4.0       0.32      0.06      0.09      9273\n",
      "         5.0       0.67      0.97      0.79     38114\n",
      "\n",
      "    accuracy                           0.64     63872\n",
      "   macro avg       0.42      0.31      0.30     63872\n",
      "weighted avg       0.55      0.64      0.55     63872\n",
      "\n"
     ]
    }
   ],
   "source": [
    "y_pred_test = etC.predict(X_test)\n",
    "classification_metrics(y_test, y_pred_test)"
   ]
  },
  {
   "cell_type": "code",
   "execution_count": 117,
   "id": "bulgarian-signature",
   "metadata": {},
   "outputs": [
    {
     "name": "stdout",
     "output_type": "stream",
     "text": [
      "Test Set Accuracy: 64.477%\n",
      "Test Set F1 Score: 0.645\n"
     ]
    }
   ],
   "source": [
    "accuracy = metrics.accuracy_score(y_test, y_pred_test)\n",
    "f1_score = metrics.f1_score(y_test, y_pred_test, average=\"micro\")\n",
    "\n",
    "print(f\"Test Set Accuracy: {accuracy*100:.3f}%\")\n",
    "print(f\"Test Set F1 Score: {f1_score:.3f}\")"
   ]
  },
  {
   "cell_type": "markdown",
   "id": "touched-bikini",
   "metadata": {},
   "source": [
    "### XGBoost Classifier"
   ]
  },
  {
   "cell_type": "code",
   "execution_count": 118,
   "id": "optical-administration",
   "metadata": {},
   "outputs": [
    {
     "name": "stderr",
     "output_type": "stream",
     "text": [
      "/Library/Frameworks/Python.framework/Versions/3.9/lib/python3.9/site-packages/xgboost/sklearn.py:1146: UserWarning: The use of label encoder in XGBClassifier is deprecated and will be removed in a future release. To remove this warning, do the following: 1) Pass option use_label_encoder=False when constructing XGBClassifier object; and 2) Encode your labels (y) as integers starting with 0, i.e. 0, 1, 2, ..., [num_class - 1].\n",
      "  warnings.warn(label_encoder_deprecation_msg, UserWarning)\n"
     ]
    },
    {
     "name": "stdout",
     "output_type": "stream",
     "text": [
      "[00:15:59] WARNING: /Users/travis/build/dmlc/xgboost/src/learner.cc:1095: Starting in XGBoost 1.3.0, the default evaluation metric used with the objective 'multi:softprob' was changed from 'merror' to 'mlogloss'. Explicitly set eval_metric if you'd like to restore the old behavior.\n",
      "Confusion Matrix:\n",
      "\n",
      "[[ 21715    288    818    692   5864]\n",
      " [  3557   4163   1086   1119   5297]\n",
      " [  2557    333   7206   2453   9157]\n",
      " [  1429    228   1286   9705  24099]\n",
      " [  1875    201   1012   2675 146670]]\n",
      "\n",
      "Accuracy:  0.741566041059162\n",
      "\n",
      "Classification report:\n",
      "\n",
      "              precision    recall  f1-score   support\n",
      "\n",
      "         1.0       0.70      0.74      0.72     29377\n",
      "         2.0       0.80      0.27      0.41     15222\n",
      "         3.0       0.63      0.33      0.44     21706\n",
      "         4.0       0.58      0.26      0.36     36747\n",
      "         5.0       0.77      0.96      0.85    152433\n",
      "\n",
      "    accuracy                           0.74    255485\n",
      "   macro avg       0.70      0.51      0.56    255485\n",
      "weighted avg       0.72      0.74      0.71    255485\n",
      "\n"
     ]
    }
   ],
   "source": [
    "from xgboost import XGBClassifier\n",
    "\n",
    "xgB = XGBClassifier()\n",
    "xgB.fit(X_train, y_train)\n",
    "xgb_train_predict = pd.DataFrame(data=xgB.predict(X_train),)\n",
    "classification_metrics(y_train, xgb_train_predict)"
   ]
  },
  {
   "cell_type": "code",
   "execution_count": 121,
   "id": "convertible-substance",
   "metadata": {},
   "outputs": [
    {
     "name": "stdout",
     "output_type": "stream",
     "text": [
      "Training Set Accuracy: 74.157%\n",
      "Training Set F1 Score: 0.742\n"
     ]
    }
   ],
   "source": [
    "accuracy = metrics.accuracy_score(y_train, xgb_train_predict)\n",
    "f1_score = metrics.f1_score(y_train, xgb_train_predict, average=\"micro\")\n",
    "\n",
    "print(f\"Training Set Accuracy: {accuracy*100:.3f}%\")\n",
    "print(f\"Training Set F1 Score: {f1_score:.3f}\")"
   ]
  },
  {
   "cell_type": "code",
   "execution_count": 119,
   "id": "educational-closing",
   "metadata": {},
   "outputs": [
    {
     "name": "stdout",
     "output_type": "stream",
     "text": [
      "Confusion Matrix:\n",
      "\n",
      "[[ 4529   270   345   228  1944]\n",
      " [ 1332   227   444   332  1443]\n",
      " [  852   199   889   925  2526]\n",
      " [  452    88   562  1528  6643]\n",
      " [  718   102   360  1044 35890]]\n",
      "\n",
      "Accuracy:  0.6742077905811623\n",
      "\n",
      "Classification report:\n",
      "\n",
      "              precision    recall  f1-score   support\n",
      "\n",
      "         1.0       0.57      0.62      0.60      7316\n",
      "         2.0       0.26      0.06      0.10      3778\n",
      "         3.0       0.34      0.16      0.22      5391\n",
      "         4.0       0.38      0.16      0.23      9273\n",
      "         5.0       0.74      0.94      0.83     38114\n",
      "\n",
      "    accuracy                           0.67     63872\n",
      "   macro avg       0.46      0.39      0.39     63872\n",
      "weighted avg       0.61      0.67      0.62     63872\n",
      "\n"
     ]
    }
   ],
   "source": [
    "xgb_test_predict = pd.DataFrame(data=xgB.predict(X_test))\n",
    "classification_metrics(y_test, xgb_test_predict)"
   ]
  },
  {
   "cell_type": "code",
   "execution_count": 120,
   "id": "expensive-desire",
   "metadata": {},
   "outputs": [
    {
     "name": "stdout",
     "output_type": "stream",
     "text": [
      "Test Set Accuracy: 67.421%\n",
      "Test Set F1 Score: 0.674\n"
     ]
    }
   ],
   "source": [
    "accuracy = metrics.accuracy_score(y_test, xgb_test_predict)\n",
    "f1_score = metrics.f1_score(y_test, xgb_test_predict, average=\"micro\")\n",
    "\n",
    "print(f\"Test Set Accuracy: {accuracy*100:.3f}%\")\n",
    "print(f\"Test Set F1 Score: {f1_score:.3f}\")"
   ]
  },
  {
   "cell_type": "code",
   "execution_count": 126,
   "id": "sunset-dancing",
   "metadata": {},
   "outputs": [
    {
     "data": {
      "text/plain": [
       "DecisionTreeClassifier(class_weight='balanced', random_state=42)"
      ]
     },
     "execution_count": 126,
     "metadata": {},
     "output_type": "execute_result"
    }
   ],
   "source": [
    "from sklearn.tree import DecisionTreeClassifier\n",
    "\n",
    "dec_tree = DecisionTreeClassifier(class_weight='balanced', random_state=42)\n",
    "dec_tree.fit(X_train, y_train)"
   ]
  },
  {
   "cell_type": "code",
   "execution_count": 127,
   "id": "surrounded-coordination",
   "metadata": {},
   "outputs": [
    {
     "name": "stdout",
     "output_type": "stream",
     "text": [
      "Training Set Accuracy: 98.695%\n",
      "Training Set F1 Score: 0.987\n",
      "Confusion Matrix:\n",
      "\n",
      "[[ 29053    185     84     29     26]\n",
      " [   116  15058     27     10     11]\n",
      " [    73     79  21483     41     30]\n",
      " [   112     56    130  36245    204]\n",
      " [   440    156    336   1188 150313]]\n",
      "\n",
      "Accuracy:  0.9869542243184531\n",
      "\n",
      "Classification report:\n",
      "\n",
      "              precision    recall  f1-score   support\n",
      "\n",
      "         1.0       0.98      0.99      0.98     29377\n",
      "         2.0       0.97      0.99      0.98     15222\n",
      "         3.0       0.97      0.99      0.98     21706\n",
      "         4.0       0.97      0.99      0.98     36747\n",
      "         5.0       1.00      0.99      0.99    152433\n",
      "\n",
      "    accuracy                           0.99    255485\n",
      "   macro avg       0.98      0.99      0.98    255485\n",
      "weighted avg       0.99      0.99      0.99    255485\n",
      "\n"
     ]
    }
   ],
   "source": [
    "y_pred = dec_tree.predict(X_train)\n",
    "\n",
    "accuracy = metrics.accuracy_score(y_train, y_pred)\n",
    "f1_score = metrics.f1_score(y_train, y_pred, average=\"micro\")\n",
    "\n",
    "print(f\"Training Set Accuracy: {accuracy*100:.3f}%\")\n",
    "print(f\"Training Set F1 Score: {f1_score:.3f}\")\n",
    "\n",
    "classification_metrics(y_train, y_pred)"
   ]
  },
  {
   "cell_type": "code",
   "execution_count": 128,
   "id": "falling-mercy",
   "metadata": {},
   "outputs": [
    {
     "name": "stdout",
     "output_type": "stream",
     "text": [
      "Confusion Matrix:\n",
      "\n",
      "[[ 2534   920   897   798  2167]\n",
      " [  862   507   521   523  1365]\n",
      " [  843   597   847   980  2124]\n",
      " [  820   632  1062  1826  4933]\n",
      " [ 2250  1490  2327  5416 26631]]\n",
      "\n",
      "Accuracy:  0.5064034318637275\n",
      "\n",
      "Classification report:\n",
      "\n",
      "              precision    recall  f1-score   support\n",
      "\n",
      "         1.0       0.35      0.35      0.35      7316\n",
      "         2.0       0.12      0.13      0.13      3778\n",
      "         3.0       0.15      0.16      0.15      5391\n",
      "         4.0       0.19      0.20      0.19      9273\n",
      "         5.0       0.72      0.70      0.71     38114\n",
      "\n",
      "    accuracy                           0.51     63872\n",
      "   macro avg       0.31      0.31      0.31     63872\n",
      "weighted avg       0.51      0.51      0.51     63872\n",
      "\n"
     ]
    }
   ],
   "source": [
    "predict = dec_tree.predict(X_test)\n",
    "classification_metrics(y_test, predict)"
   ]
  },
  {
   "cell_type": "markdown",
   "id": "invisible-allen",
   "metadata": {},
   "source": [
    "### Dealing with Unbalanced Data"
   ]
  },
  {
   "cell_type": "code",
   "execution_count": 129,
   "id": "crucial-tuner",
   "metadata": {},
   "outputs": [
    {
     "data": {
      "text/plain": [
       "0.597"
      ]
     },
     "execution_count": 129,
     "metadata": {},
     "output_type": "execute_result"
    }
   ],
   "source": [
    "majority = len(df_lemmatized[df_lemmatized[\"overall\"] == 5]) / len(df_lemmatized)\n",
    "\n",
    "round(majority,3)"
   ]
  },
  {
   "cell_type": "code",
   "execution_count": 130,
   "id": "operating-nepal",
   "metadata": {},
   "outputs": [
    {
     "name": "stdout",
     "output_type": "stream",
     "text": [
      "Size of Class 1: 19000\n",
      "Size of Class 2: 19000\n",
      "Size of Class 3: 19000\n",
      "Size of Class 4: 19000\n",
      "Size of Class 5: 19000\n"
     ]
    }
   ],
   "source": [
    "count = len(model_df[model_df[\"label\"] == 2])\n",
    "#trim the majority class\n",
    "condition = model_df[\"label\"] == 5\n",
    "balanced_df = model_df[condition].sample(n=count, random_state=42)\n",
    "\n",
    "#trim other class and add on to the trimmed_df\n",
    "for rating in [1, 2, 3, 4]:\n",
    "    condition = model_df[\"label\"] == rating\n",
    "    if len(model_df[condition]) >= count:\n",
    "        add_df = model_df[condition].sample(n=count, random_state=42)\n",
    "    else:\n",
    "        add_df = model_df[condition]\n",
    "    balanced_df = pd.concat([balanced_df, add_df], ignore_index=False)\n",
    "\n",
    "#display new class sizes of trimmed_df\n",
    "for rating in [1, 2, 3, 4, 5]:\n",
    "    class_size = len(balanced_df[balanced_df[\"label\"] == rating])\n",
    "    print(f\"Size of Class {rating}: {class_size}\")"
   ]
  },
  {
   "cell_type": "code",
   "execution_count": 149,
   "id": "elect-subject",
   "metadata": {},
   "outputs": [
    {
     "data": {
      "text/plain": [
       "0        95000\n",
       "1        95000\n",
       "2        95000\n",
       "3        95000\n",
       "4        95000\n",
       "         ...  \n",
       "96       95000\n",
       "97       95000\n",
       "98       95000\n",
       "99       95000\n",
       "label    95000\n",
       "Length: 101, dtype: int64"
      ]
     },
     "execution_count": 149,
     "metadata": {},
     "output_type": "execute_result"
    }
   ],
   "source": [
    "balanced_df.count()"
   ]
  },
  {
   "cell_type": "code",
   "execution_count": 133,
   "id": "arctic-hughes",
   "metadata": {},
   "outputs": [
    {
     "data": {
      "image/png": "[encoded data removed]",
      "text/plain": [
       "<Figure size 864x504 with 1 Axes>"
      ]
     },
     "metadata": {
      "needs_background": "light"
     },
     "output_type": "display_data"
    }
   ],
   "source": [
    "f, axes = plt.subplots(figsize=(12,7))\n",
    "ax = sns.countplot(x=balanced_df[\"label\"], palette=\"pastel\")\n",
    "ax.set(title=\"Overall Distribution\", \\\n",
    "       xlabel=\"Rating\", ylabel=\"Number of Reviews\")\n",
    "plt.show()"
   ]
  },
  {
   "cell_type": "code",
   "execution_count": 139,
   "id": "iraqi-justice",
   "metadata": {},
   "outputs": [],
   "source": [
    "X = balanced_df.iloc[:, :-1]\n",
    "y = balanced_df.iloc[:, -1]\n",
    "\n",
    "X_train, X_test, y_train, y_test = train_test_split(X, y, stratify=y, test_size=0.2, random_state=42, shuffle=True)"
   ]
  },
  {
   "cell_type": "code",
   "execution_count": 140,
   "id": "northern-reminder",
   "metadata": {},
   "outputs": [
    {
     "name": "stderr",
     "output_type": "stream",
     "text": [
      "/Library/Frameworks/Python.framework/Versions/3.9/lib/python3.9/site-packages/xgboost/sklearn.py:1146: UserWarning: The use of label encoder in XGBClassifier is deprecated and will be removed in a future release. To remove this warning, do the following: 1) Pass option use_label_encoder=False when constructing XGBClassifier object; and 2) Encode your labels (y) as integers starting with 0, i.e. 0, 1, 2, ..., [num_class - 1].\n",
      "  warnings.warn(label_encoder_deprecation_msg, UserWarning)\n"
     ]
    },
    {
     "name": "stdout",
     "output_type": "stream",
     "text": [
      "[00:41:06] WARNING: /Users/travis/build/dmlc/xgboost/src/learner.cc:1095: Starting in XGBoost 1.3.0, the default evaluation metric used with the objective 'multi:softprob' was changed from 'merror' to 'mlogloss'. Explicitly set eval_metric if you'd like to restore the old behavior.\n",
      "Confusion Matrix:\n",
      "\n",
      "[[12791   900   741   438   330]\n",
      " [ 1596 10821  1180  1062   541]\n",
      " [ 1008  1275 10474  1603   840]\n",
      " [  463   753  1042 11240  1702]\n",
      " [  286   380   469  1132 12933]]\n",
      "\n",
      "Accuracy:  0.7665657894736843\n",
      "\n",
      "Classification report:\n",
      "\n",
      "              precision    recall  f1-score   support\n",
      "\n",
      "         1.0       0.79      0.84      0.82     15200\n",
      "         2.0       0.77      0.71      0.74     15200\n",
      "         3.0       0.75      0.69      0.72     15200\n",
      "         4.0       0.73      0.74      0.73     15200\n",
      "         5.0       0.79      0.85      0.82     15200\n",
      "\n",
      "    accuracy                           0.77     76000\n",
      "   macro avg       0.77      0.77      0.77     76000\n",
      "weighted avg       0.77      0.77      0.77     76000\n",
      "\n"
     ]
    }
   ],
   "source": [
    "xgB = XGBClassifier()\n",
    "xgB.fit(X_train, y_train)\n",
    "xgb_train_predict = pd.DataFrame(data=xgB.predict(X_train))\n",
    "classification_metrics(y_train, xgb_train_predict)"
   ]
  },
  {
   "cell_type": "code",
   "execution_count": 141,
   "id": "interracial-festival",
   "metadata": {},
   "outputs": [
    {
     "name": "stdout",
     "output_type": "stream",
     "text": [
      "Confusion Matrix:\n",
      "\n",
      "[[2197  885  357  174  187]\n",
      " [1070 1200  829  453  248]\n",
      " [ 518  911 1135  857  379]\n",
      " [ 198  396  666 1464 1076]\n",
      " [ 173  207  230  784 2406]]\n",
      "\n",
      "Accuracy:  0.4422105263157895\n",
      "\n",
      "Classification report:\n",
      "\n",
      "              precision    recall  f1-score   support\n",
      "\n",
      "         1.0       0.53      0.58      0.55      3800\n",
      "         2.0       0.33      0.32      0.32      3800\n",
      "         3.0       0.35      0.30      0.32      3800\n",
      "         4.0       0.39      0.39      0.39      3800\n",
      "         5.0       0.56      0.63      0.59      3800\n",
      "\n",
      "    accuracy                           0.44     19000\n",
      "   macro avg       0.43      0.44      0.44     19000\n",
      "weighted avg       0.43      0.44      0.44     19000\n",
      "\n"
     ]
    }
   ],
   "source": [
    "xgb_test_predict = pd.DataFrame(data=xgB.predict(X_test))\n",
    "classification_metrics(y_test, xgb_test_predict)"
   ]
  },
  {
   "cell_type": "markdown",
   "id": "appropriate-albuquerque",
   "metadata": {},
   "source": [
    "### Deep Learning - LSTM"
   ]
  },
  {
   "cell_type": "code",
   "execution_count": 567,
   "id": "acoustic-trust",
   "metadata": {},
   "outputs": [
    {
     "name": "stdout",
     "output_type": "stream",
     "text": [
      "Found 67930 unique tokens.\n"
     ]
    }
   ],
   "source": [
    "# The maximum number of words to be used. (most frequent)\n",
    "MAX_NB_WORDS = 50000\n",
    "# Max number of words in each complaint.\n",
    "MAX_SEQUENCE_LENGTH = 250\n",
    "# This is fixed.\n",
    "EMBEDDING_DIM = 16\n",
    "tokenizer = Tokenizer(num_words=MAX_NB_WORDS)\n",
    "tokenizer.fit_on_texts(df_lemmatized['reviewText'].values)\n",
    "word_index = tokenizer.word_index\n",
    "print('Found %s unique tokens.' % len(word_index))"
   ]
  },
  {
   "cell_type": "code",
   "execution_count": 568,
   "id": "basic-threat",
   "metadata": {},
   "outputs": [
    {
     "name": "stdout",
     "output_type": "stream",
     "text": [
      "Shape of data tensor: (319644, 250)\n"
     ]
    }
   ],
   "source": [
    "X = tokenizer.texts_to_sequences(df_lemmatized['reviewText'].values)\n",
    "X = pad_sequences(X, maxlen=MAX_SEQUENCE_LENGTH)\n",
    "print('Shape of data tensor:', X.shape)"
   ]
  },
  {
   "cell_type": "code",
   "execution_count": 569,
   "id": "medical-pressing",
   "metadata": {},
   "outputs": [],
   "source": [
    "Y = df_lemmatized['overall'].to_frame()\n",
    "        \n",
    "conditions = [\n",
    "    (Y['overall'] == 1.0),\n",
    "    (Y['overall'] == 2.0),\n",
    "    (Y['overall'] == 3.0),\n",
    "    (Y['overall'] == 4.0),\n",
    "    (Y['overall'] == 5.0)\n",
    "    ]\n",
    "\n",
    "# create a list of the values we want to assign for each condition\n",
    "values = ['bad', 'notbad', 'neutral', 'good', 'verygood']\n",
    "\n",
    "# create a new column and use np.select to assign values to it using our lists as arguments\n",
    "Y['label'] = np.select(conditions, values)"
   ]
  },
  {
   "cell_type": "code",
   "execution_count": 570,
   "id": "early-ocean",
   "metadata": {},
   "outputs": [],
   "source": [
    "Y = pd.get_dummies(Y['label']).values"
   ]
  },
  {
   "cell_type": "code",
   "execution_count": 571,
   "id": "sophisticated-winning",
   "metadata": {},
   "outputs": [
    {
     "name": "stdout",
     "output_type": "stream",
     "text": [
      "(287679, 250) (287679, 5)\n",
      "(31965, 250) (31965, 5)\n"
     ]
    }
   ],
   "source": [
    "from tensorflow.keras.utils import to_categorical\n",
    "\n",
    "X_train, X_test, Y_train, Y_test = train_test_split(X,Y, test_size = 0.10, random_state = 42)\n",
    "print(X_train.shape,Y_train.shape)\n",
    "print(X_test.shape,Y_test.shape)"
   ]
  },
  {
   "cell_type": "code",
   "execution_count": 460,
   "id": "bridal-costs",
   "metadata": {},
   "outputs": [
    {
     "name": "stdout",
     "output_type": "stream",
     "text": [
      "Epoch 1/5\n",
      "4046/4046 [==============================] - 230s 57ms/step - loss: 0.9365 - accuracy: 0.6584 - val_loss: 0.8033 - val_accuracy: 0.6967\n",
      "Epoch 2/5\n",
      "4046/4046 [==============================] - 231s 57ms/step - loss: 0.7735 - accuracy: 0.7078 - val_loss: 0.7951 - val_accuracy: 0.6990\n",
      "Epoch 3/5\n",
      "4046/4046 [==============================] - 235s 58ms/step - loss: 0.7270 - accuracy: 0.7227 - val_loss: 0.8095 - val_accuracy: 0.7003\n",
      "Epoch 4/5\n",
      "4046/4046 [==============================] - 235s 58ms/step - loss: 0.6907 - accuracy: 0.7370 - val_loss: 0.8213 - val_accuracy: 0.6978\n",
      "Epoch 5/5\n",
      "4046/4046 [==============================] - 236s 58ms/step - loss: 0.6560 - accuracy: 0.7500 - val_loss: 0.8299 - val_accuracy: 0.6966\n"
     ]
    }
   ],
   "source": [
    "model = Sequential()\n",
    "model.add(Embedding(MAX_NB_WORDS, EMBEDDING_DIM, input_length=X.shape[1]))\n",
    "model.add(LSTM(16))\n",
    "model.add(tf.keras.layers.Flatten())\n",
    "model.add(tf.keras.layers.Dense(512, activation='relu'))\n",
    "model.add(Dense(5, activation='softmax'))\n",
    "model.compile(loss='categorical_crossentropy', optimizer='adam', metrics=['accuracy'])\n",
    "\n",
    "epochs = 5\n",
    "batch_size = 64\n",
    "\n",
    "history = model.fit(X_train, Y_train, epochs=epochs, batch_size=batch_size,validation_split=0.1,callbacks=[EarlyStopping(monitor='val_loss', patience=3, min_delta=0.0001)])\n"
   ]
  },
  {
   "cell_type": "code",
   "execution_count": 461,
   "id": "contained-wales",
   "metadata": {},
   "outputs": [],
   "source": [
    "model.save('lstm_model.h5') "
   ]
  },
  {
   "cell_type": "code",
   "execution_count": 462,
   "id": "corresponding-linux",
   "metadata": {},
   "outputs": [],
   "source": [
    "ypred= model.predict(X_test)"
   ]
  },
  {
   "cell_type": "code",
   "execution_count": 463,
   "id": "passive-cream",
   "metadata": {},
   "outputs": [
    {
     "name": "stdout",
     "output_type": "stream",
     "text": [
      "999/999 [==============================] - 9s 9ms/step - loss: 0.8258 - accuracy: 0.6963\n",
      "Test set\n",
      "  Loss: 0.826\n",
      "  Accuracy: 0.696\n"
     ]
    }
   ],
   "source": [
    "accr = model.evaluate(X_test,Y_test)\n",
    "print('Test set\\n  Loss: {:0.3f}\\n  Accuracy: {:0.3f}'.format(accr[0],accr[1]))"
   ]
  },
  {
   "cell_type": "code",
   "execution_count": 490,
   "id": "periodic-confidentiality",
   "metadata": {},
   "outputs": [
    {
     "name": "stderr",
     "output_type": "stream",
     "text": [
      "/Library/Frameworks/Python.framework/Versions/3.9/lib/python3.9/site-packages/tensorflow/python/keras/engine/sequential.py:455: UserWarning: `model.predict_classes()` is deprecated and will be removed after 2021-01-01. Please use instead:* `np.argmax(model.predict(x), axis=-1)`,   if your model does multi-class classification   (e.g. if it uses a `softmax` last-layer activation).* `(model.predict(x) > 0.5).astype(\"int32\")`,   if your model does binary classification   (e.g. if it uses a `sigmoid` last-layer activation).\n",
      "  warnings.warn('`model.predict_classes()` is deprecated and '\n"
     ]
    }
   ],
   "source": [
    "yhat_classes = model.predict_classes(X_test, verbose=0)\n",
    "rounded_labels=np.argmax(Y_test, axis=1)"
   ]
  },
  {
   "cell_type": "code",
   "execution_count": 491,
   "id": "wicked-remove",
   "metadata": {},
   "outputs": [
    {
     "name": "stdout",
     "output_type": "stream",
     "text": [
      "Confusion Matrix:\n",
      "\n",
      "[[ 2520    50   276   221   644]\n",
      " [  162   941   467    42  2947]\n",
      " [  412   378   764   169   919]\n",
      " [  737    94   386   209   496]\n",
      " [  294   685   293    35 17824]]\n",
      "\n",
      "Accuracy:  0.6963241044892852\n",
      "\n",
      "Classification report:\n",
      "\n",
      "              precision    recall  f1-score   support\n",
      "\n",
      "           0       0.61      0.68      0.64      3711\n",
      "           1       0.44      0.21      0.28      4559\n",
      "           2       0.35      0.29      0.32      2642\n",
      "           3       0.31      0.11      0.16      1922\n",
      "           4       0.78      0.93      0.85     19131\n",
      "\n",
      "    accuracy                           0.70     31965\n",
      "   macro avg       0.50      0.44      0.45     31965\n",
      "weighted avg       0.65      0.70      0.66     31965\n",
      "\n"
     ]
    }
   ],
   "source": [
    "classification_metrics(rounded_labels, yhat_classes)"
   ]
  },
  {
   "cell_type": "markdown",
   "id": "approved-engineering",
   "metadata": {},
   "source": [
    "### Deep Learning - LSTM + CNN"
   ]
  },
  {
   "cell_type": "code",
   "execution_count": 550,
   "id": "honest-warren",
   "metadata": {},
   "outputs": [
    {
     "name": "stdout",
     "output_type": "stream",
     "text": [
      "Model: \"sequential_107\"\n",
      "_________________________________________________________________\n",
      "Layer (type)                 Output Shape              Param #   \n",
      "=================================================================\n",
      "embedding_105 (Embedding)    (None, 250, 16)           800000    \n",
      "_________________________________________________________________\n",
      "conv1d_23 (Conv1D)           (None, 248, 64)           3136      \n",
      "_________________________________________________________________\n",
      "max_pooling1d_22 (MaxPooling (None, 124, 64)           0         \n",
      "_________________________________________________________________\n",
      "lstm_99 (LSTM)               (None, 16)                5184      \n",
      "_________________________________________________________________\n",
      "flatten_35 (Flatten)         (None, 16)                0         \n",
      "_________________________________________________________________\n",
      "dense_159 (Dense)            (None, 512)               8704      \n",
      "_________________________________________________________________\n",
      "dense_160 (Dense)            (None, 5)                 2565      \n",
      "=================================================================\n",
      "Total params: 819,589\n",
      "Trainable params: 819,589\n",
      "Non-trainable params: 0\n",
      "_________________________________________________________________\n",
      "None\n"
     ]
    }
   ],
   "source": [
    "from tensorflow.keras.layers import Conv1D, MaxPooling1D\n",
    "embedding_vecor_length = 32\n",
    "model = Sequential()\n",
    "model.add(Embedding(50000, 16, input_length=250))\n",
    "model.add(Conv1D(filters=64, kernel_size = 3, activation='relu'))\n",
    "model.add(MaxPooling1D(pool_size=2))\n",
    "model.add(LSTM(16))\n",
    "model.add(tf.keras.layers.Flatten())\n",
    "model.add(tf.keras.layers.Dense(512, activation='relu'))\n",
    "model.add(Dense(5, activation='softmax'))\n",
    "model.compile(loss='categorical_crossentropy', optimizer='adam', metrics=['accuracy'])\n",
    "print(model.summary())\n",
    "\n"
   ]
  },
  {
   "cell_type": "code",
   "execution_count": 551,
   "id": "incredible-ending",
   "metadata": {},
   "outputs": [
    {
     "name": "stdout",
     "output_type": "stream",
     "text": [
      "Epoch 1/10\n",
      "4046/4046 [==============================] - 153s 38ms/step - loss: 0.9382 - accuracy: 0.6582 - val_loss: 0.7938 - val_accuracy: 0.6992\n",
      "Epoch 2/10\n",
      "4046/4046 [==============================] - 152s 38ms/step - loss: 0.7607 - accuracy: 0.7109 - val_loss: 0.7918 - val_accuracy: 0.7006\n",
      "Epoch 3/10\n",
      "4046/4046 [==============================] - 152s 37ms/step - loss: 0.7047 - accuracy: 0.7293 - val_loss: 0.8063 - val_accuracy: 0.6964\n",
      "Epoch 4/10\n",
      "4046/4046 [==============================] - 151s 37ms/step - loss: 0.6588 - accuracy: 0.7487 - val_loss: 0.8232 - val_accuracy: 0.6857\n",
      "Epoch 5/10\n",
      "4046/4046 [==============================] - 149s 37ms/step - loss: 0.6120 - accuracy: 0.7669 - val_loss: 0.8518 - val_accuracy: 0.6942\n",
      "Epoch 6/10\n",
      "4046/4046 [==============================] - 153s 38ms/step - loss: 0.5794 - accuracy: 0.7806 - val_loss: 0.8963 - val_accuracy: 0.6815\n",
      "Epoch 7/10\n",
      "4046/4046 [==============================] - 154s 38ms/step - loss: 0.5468 - accuracy: 0.7958 - val_loss: 0.9287 - val_accuracy: 0.6808\n",
      "Epoch 8/10\n",
      "4046/4046 [==============================] - 154s 38ms/step - loss: 0.5185 - accuracy: 0.8077 - val_loss: 1.0046 - val_accuracy: 0.6738\n",
      "Epoch 9/10\n",
      "4046/4046 [==============================] - 156s 39ms/step - loss: 0.4937 - accuracy: 0.8161 - val_loss: 1.1134 - val_accuracy: 0.6566\n",
      "Epoch 10/10\n",
      "4046/4046 [==============================] - 156s 39ms/step - loss: 0.4701 - accuracy: 0.8241 - val_loss: 1.1320 - val_accuracy: 0.6672\n"
     ]
    }
   ],
   "source": [
    "history = model.fit(X_train, Y_train, epochs=epochs, batch_size=64,validation_split=0.1)"
   ]
  },
  {
   "cell_type": "code",
   "execution_count": 552,
   "id": "talented-extent",
   "metadata": {},
   "outputs": [],
   "source": [
    "model.save('lstm_cnn_model.h5') "
   ]
  },
  {
   "cell_type": "code",
   "execution_count": 553,
   "id": "continuous-dinner",
   "metadata": {},
   "outputs": [
    {
     "name": "stderr",
     "output_type": "stream",
     "text": [
      "/Library/Frameworks/Python.framework/Versions/3.9/lib/python3.9/site-packages/tensorflow/python/keras/engine/sequential.py:455: UserWarning: `model.predict_classes()` is deprecated and will be removed after 2021-01-01. Please use instead:* `np.argmax(model.predict(x), axis=-1)`,   if your model does multi-class classification   (e.g. if it uses a `softmax` last-layer activation).* `(model.predict(x) > 0.5).astype(\"int32\")`,   if your model does binary classification   (e.g. if it uses a `sigmoid` last-layer activation).\n",
      "  warnings.warn('`model.predict_classes()` is deprecated and '\n"
     ]
    },
    {
     "name": "stdout",
     "output_type": "stream",
     "text": [
      "Confusion Matrix:\n",
      "\n",
      "[[ 2469   102   361   273   506]\n",
      " [  169  1243   615    75  2457]\n",
      " [  409   517   844   185   687]\n",
      " [  739   152   439   219   373]\n",
      " [  386  1553   537   102 16553]]\n",
      "\n",
      "Accuracy:  0.6672297825746911\n",
      "\n",
      "Classification report:\n",
      "\n",
      "              precision    recall  f1-score   support\n",
      "\n",
      "           0       0.59      0.67      0.63      3711\n",
      "           1       0.35      0.27      0.31      4559\n",
      "           2       0.30      0.32      0.31      2642\n",
      "           3       0.26      0.11      0.16      1922\n",
      "           4       0.80      0.87      0.83     19131\n",
      "\n",
      "    accuracy                           0.67     31965\n",
      "   macro avg       0.46      0.45      0.45     31965\n",
      "weighted avg       0.64      0.67      0.65     31965\n",
      "\n"
     ]
    }
   ],
   "source": [
    "yhat_classes = model.predict_classes(X_test, verbose=0)\n",
    "rounded_labels=np.argmax(Y_test, axis=1)\n",
    "\n",
    "classification_metrics(rounded_labels, yhat_classes)"
   ]
  },
  {
   "cell_type": "markdown",
   "id": "overhead-dating",
   "metadata": {},
   "source": [
    "## Exploratory Data Analysis"
   ]
  },
  {
   "cell_type": "markdown",
   "id": "premium-heather",
   "metadata": {},
   "source": [
    "### LDA and Topic Modelling"
   ]
  },
  {
   "cell_type": "code",
   "execution_count": 208,
   "id": "discrete-acoustic",
   "metadata": {},
   "outputs": [
    {
     "name": "stdout",
     "output_type": "stream",
     "text": [
      "hair 0.057137743\n",
      "use 0.03659064\n",
      "product 0.022688037\n",
      "work 0.01836899\n",
      "t 0.0162057\n",
      "CPU times: user 1min 7s, sys: 15.8 s, total: 1min 23s\n",
      "Wall time: 1min 34s\n"
     ]
    }
   ],
   "source": [
    "%%time\n",
    "import multiprocessing\n",
    "\n",
    "from gensim.models.ldamulticore import LdaMulticore\n",
    "\n",
    "cores = multiprocessing.cpu_count()\n",
    "\n",
    "num_topics = 10\n",
    "bow_lda = LdaMulticore(bow, num_topics=num_topics, id2word=vocabulary, \\\n",
    "                       passes=5, workers=cores, random_state=42)\n",
    "\n",
    "for token, frequency in bow_lda.show_topic(0, topn=5):\n",
    "    print(token, frequency)"
   ]
  },
  {
   "cell_type": "code",
   "execution_count": 209,
   "id": "brave-kingdom",
   "metadata": {},
   "outputs": [
    {
     "name": "stdout",
     "output_type": "stream",
     "text": [
      "\n",
      "Topic 1:\n",
      " hair 0.05713774263858795\n",
      " use 0.036590639501810074\n",
      " product 0.022688036784529686\n",
      " work 0.01836898922920227\n",
      " t 0.016205700114369392\n",
      "\n",
      "Topic 2:\n",
      " t 0.049344129860401154\n",
      " n 0.04901977628469467\n",
      " product 0.03307762369513512\n",
      " get 0.014365723356604576\n",
      " buy 0.013248815201222897\n",
      "\n",
      "Topic 3:\n",
      " hair 0.04396681860089302\n",
      " t 0.022642631083726883\n",
      " n 0.022480880841612816\n",
      " get 0.015244336798787117\n",
      " use 0.015058043412864208\n",
      "\n",
      "Topic 4:\n",
      " brush 0.025476820766925812\n",
      " razor 0.024815315380692482\n",
      " shave 0.024490581825375557\n",
      " use 0.014448480680584908\n",
      " shaver 0.013407531194388866\n",
      "\n",
      "Topic 5:\n",
      " use 0.02587071806192398\n",
      " n 0.017022639513015747\n",
      " t 0.017021844163537025\n",
      " one 0.012683774344623089\n",
      " teeth 0.011737131513655186\n",
      "\n",
      "Topic 6:\n",
      " look 0.015447891317307949\n",
      " make 0.014532185159623623\n",
      " get 0.013522359542548656\n",
      " use 0.012344281189143658\n",
      " like 0.011958295479416847\n",
      "\n",
      "Topic 7:\n",
      " love 0.05064253881573677\n",
      " use 0.02666466124355793\n",
      " great 0.022818630561232567\n",
      " one 0.017748015001416206\n",
      " year 0.017409350723028183\n",
      "\n",
      "Topic 8:\n",
      " use 0.020839886739850044\n",
      " product 0.019531290978193283\n",
      " smell 0.01601346582174301\n",
      " t 0.014349640347063541\n",
      " n 0.014276927337050438\n",
      "\n",
      "Topic 9:\n",
      " skin 0.037778306752443314\n",
      " use 0.031199753284454346\n",
      " product 0.023964889347553253\n",
      " face 0.012688414193689823\n",
      " feel 0.011353571899235249\n",
      "\n",
      "Topic 10:\n",
      " great 0.02860287018120289\n",
      " color 0.027367671951651573\n",
      " good 0.026333030313253403\n",
      " love 0.023227887228131294\n",
      " nice 0.01951318047940731\n"
     ]
    }
   ],
   "source": [
    "#Emrenin anlattığı gibi bow kullanıldığı için kelimelerin anlamları\n",
    "#kaybolabiliyor veya eş anlamlılar olursa tespit zor olabiliyor\n",
    "for topic in range(0, num_topics):\n",
    "    print(f\"\\nTopic {topic+1}:\")\n",
    "    for token, frequency in bow_lda.show_topic(topic, topn=5):\n",
    "        print(f\" {token} {frequency}\")"
   ]
  },
  {
   "cell_type": "code",
   "execution_count": 219,
   "id": "meaningful-vertex",
   "metadata": {},
   "outputs": [
    {
     "data": {
      "text/plain": [
       "[('shaving', 0.8168691992759705),\n",
       " ('shaves', 0.735748291015625),\n",
       " ('razor', 0.6707531213760376),\n",
       " ('shaver', 0.5992351770401001),\n",
       " ('blade', 0.5751073360443115)]"
      ]
     },
     "execution_count": 219,
     "metadata": {},
     "output_type": "execute_result"
    }
   ],
   "source": [
    "word_vec.wv.most_similar('shave', topn=5)"
   ]
  },
  {
   "cell_type": "code",
   "execution_count": 223,
   "id": "democratic-option",
   "metadata": {},
   "outputs": [
    {
     "data": {
      "text/plain": [
       "0.6707531"
      ]
     },
     "execution_count": 223,
     "metadata": {},
     "output_type": "execute_result"
    }
   ],
   "source": [
    "word_vec.wv.similarity('shave', 'razor')"
   ]
  },
  {
   "cell_type": "code",
   "execution_count": 217,
   "id": "broke-serve",
   "metadata": {},
   "outputs": [
    {
     "data": {
      "text/plain": [
       "0.60577476"
      ]
     },
     "execution_count": 217,
     "metadata": {},
     "output_type": "execute_result"
    }
   ],
   "source": [
    "word_vec.wv.similarity('boy', 'girl')"
   ]
  },
  {
   "cell_type": "code",
   "execution_count": 213,
   "id": "confirmed-ridge",
   "metadata": {},
   "outputs": [
    {
     "name": "stdout",
     "output_type": "stream",
     "text": [
      "blade: ['blades' 'razor' 'feathers' 'cartridge' 'mach']\n",
      "skin: ['face' 'complexion' 'flaky' 'redness' 'rosacea']\n",
      "hair: ['wavy' 'frizzy' 'curly' 'curl' 'strand']\n",
      "shampoo: ['conditioner' 'detangler' 'poo' 'pantene' 'dandruff']\n",
      "eye: ['eyes' 'eyelid' 'undereye' 'crease' 'wrinkle']\n",
      "parfume: ['perry' 'prada' 'fragrence' 'flavors' 'amor']\n",
      "lip: ['lips' 'chapstick' 'lipstick' 'chap' 'lipgloss']\n",
      "fruit: ['cinnamon' 'rosemary' 'grape' 'chamomile' 'melon']\n",
      "pencil: ['liner' 'sharpener' 'eyeliner' 'eyeshadow' 'palette']\n",
      "wave: ['curl' 'curls' 'bouncy' 'wavy' 'frizz']\n",
      "teeth: ['tooth' 'gum' 'molar' 'tray' 'mouth']\n"
     ]
    }
   ],
   "source": [
    "word_bank = [\"blade\", \"skin\", \"hair\", \"shampoo\", \"eye\", \"parfume\", \"lip\", \"fruit\", \"pencil\", \"wave\", \"teeth\"]\n",
    "\n",
    "for word in word_bank[:]:\n",
    "    related_vec = word_vec.wv.most_similar(word, topn=5)\n",
    "    related_words = np.array(related_vec)[:,0]\n",
    "    word_bank.extend(related_words)\n",
    "    print(f\"{word}: {related_words}\")"
   ]
  },
  {
   "cell_type": "code",
   "execution_count": 214,
   "id": "sporting-absolute",
   "metadata": {},
   "outputs": [
    {
     "data": {
      "image/png": "[encoded data removed]",
      "text/plain": [
       "<Figure size 720x576 with 1 Axes>"
      ]
     },
     "metadata": {
      "needs_background": "light"
     },
     "output_type": "display_data"
    },
    {
     "data": {
      "image/png": "[encoded data removed]",
      "text/plain": [
       "<Figure size 720x576 with 1 Axes>"
      ]
     },
     "metadata": {
      "needs_background": "light"
     },
     "output_type": "display_data"
    },
    {
     "data": {
      "image/png": "[encoded data removed]",
      "text/plain": [
       "<Figure size 720x576 with 1 Axes>"
      ]
     },
     "metadata": {
      "needs_background": "light"
     },
     "output_type": "display_data"
    },
    {
     "data": {
      "image/png": "[encoded data removed]",
      "text/plain": [
       "<Figure size 720x576 with 1 Axes>"
      ]
     },
     "metadata": {
      "needs_background": "light"
     },
     "output_type": "display_data"
    },
    {
     "data": {
      "image/png": "[encoded data removed]",
      "text/plain": [
       "<Figure size 720x576 with 1 Axes>"
      ]
     },
     "metadata": {
      "needs_background": "light"
     },
     "output_type": "display_data"
    }
   ],
   "source": [
    "from wordcloud import WordCloud\n",
    "from collections import Counter\n",
    "\n",
    "overall_1 = \" \".join(df_lemmatized[df_lemmatized[\"overall\"]==1][\"reviewText\"].values)\n",
    "overall_2 = \" \".join(df_lemmatized[df_lemmatized[\"overall\"]==2][\"reviewText\"].values)\n",
    "overall_3 = \" \".join(df_lemmatized[df_lemmatized[\"overall\"]==3][\"reviewText\"].values)\n",
    "overall_4 = \" \".join(df_lemmatized[df_lemmatized[\"overall\"]==4][\"reviewText\"].values)\n",
    "overall_5 = \" \".join(df_lemmatized[df_lemmatized[\"overall\"]==5][\"reviewText\"].values)\n",
    "\n",
    "text_list = [overall_1, overall_2, overall_3, \\\n",
    "             overall_4, overall_5]\n",
    "\n",
    "for index, text in enumerate(text_list):\n",
    "    \n",
    "    colors = ['Purples', 'Reds', 'Greens', 'Oranges', 'Blues']\n",
    "    \n",
    "    wordcloud = WordCloud(stopwords = stop_words, min_font_size=10, \\\n",
    "                      max_font_size=50, max_words=40, \\\n",
    "                      background_color=\"white\", colormap = f\"{colors[index]}\")\n",
    "    f, axes = plt.subplots(figsize=(10,8))\n",
    "    c= Counter(text.split(' '))\n",
    "    wordcloud.generate_from_frequencies(c)\n",
    "    plt.imshow(wordcloud, interpolation=\"bilinear\")\n",
    "    plt.title(f\"Word Cloud for {index+1}-Star\", fontsize=15)\n",
    "    plt.axis(\"off\")\n",
    "    plt.show()"
   ]
  },
  {
   "cell_type": "markdown",
   "id": "polished-librarian",
   "metadata": {},
   "source": [
    "# Thanks !"
   ]
  }
 ],
 "metadata": {
  "kernelspec": {
   "display_name": "Python 3",
   "language": "python",
   "name": "python3"
  },
  "language_info": {
   "codemirror_mode": {
    "name": "ipython",
    "version": 3
   },
   "file_extension": ".py",
   "mimetype": "text/x-python",
   "name": "python",
   "nbconvert_exporter": "python",
   "pygments_lexer": "ipython3",
   "version": "3.9.2"
  }
 },
 "nbformat": 4,
 "nbformat_minor": 5
}
